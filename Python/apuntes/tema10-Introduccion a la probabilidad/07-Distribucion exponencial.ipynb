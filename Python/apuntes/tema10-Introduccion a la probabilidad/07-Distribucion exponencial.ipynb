{
 "cells": [
  {
   "cell_type": "markdown",
   "id": "e34c5e3c",
   "metadata": {},
   "source": [
    "## Distribucion exponencial "
   ]
  },
  {
   "cell_type": "code",
   "execution_count": 1,
   "id": "fb6d1010",
   "metadata": {},
   "outputs": [],
   "source": [
    "from scipy.stats import expon\n",
    "import numpy as np\n",
    "import matplotlib.pyplot as plt"
   ]
  },
  {
   "cell_type": "code",
   "execution_count": 4,
   "id": "6304e9e7",
   "metadata": {
    "scrolled": true
   },
   "outputs": [
    {
     "name": "stdout",
     "output_type": "stream",
     "text": [
      "Media 0.100000\n",
      "Varianza 0.010000\n",
      "Sesgo 2.000000\n",
      "Curtosis 6.000000\n"
     ]
    },
    {
     "data": {
      "image/png": "[encoded data removed]",
      "text/plain": [
       "<Figure size 432x288 with 1 Axes>"
      ]
     },
     "metadata": {
      "needs_background": "light"
     },
     "output_type": "display_data"
    }
   ],
   "source": [
    "fig, ax = plt.subplots(1, 1)\n",
    "\n",
    "lam = 10\n",
    "rv = expon(scale = 1/lam)\n",
    "\n",
    "mean, var, skew, kurt = rv.stats(moments = 'mvsk')\n",
    "print(\"Media %f\"%mean)\n",
    "print(\"Varianza %f\"%var)\n",
    "print(\"Sesgo %f\"%skew)\n",
    "print(\"Curtosis %f\"%kurt)\n",
    "\n",
    "x = np.linspace(0, 2, 1000)\n",
    "ax.plot(x, rv.pdf(x), 'r-', lw = 5, alpha = 0.6, label = \"Exp(10)\")\n",
    "\n",
    "r = rv.rvs(size = 10000)\n",
    "ax.hist(r, density = True, histtype = 'stepfilled', alpha = 0.2)\n",
    "\n",
    "ax.legend(loc = \"best\", frameon = False)\n",
    "\n",
    "plt.show()"
   ]
  },
  {
   "cell_type": "code",
   "execution_count": null,
   "id": "dd3a7519",
   "metadata": {},
   "outputs": [],
   "source": []
  }
 ],
 "metadata": {
  "kernelspec": {
   "display_name": "Python 3",
   "language": "python",
   "name": "python3"
  },
  "language_info": {
   "codemirror_mode": {
    "name": "ipython",
    "version": 3
   },
   "file_extension": ".py",
   "mimetype": "text/x-python",
   "name": "python",
   "nbconvert_exporter": "python",
   "pygments_lexer": "ipython3",
   "version": "3.8.8"
  }
 },
 "nbformat": 4,
 "nbformat_minor": 5
}
