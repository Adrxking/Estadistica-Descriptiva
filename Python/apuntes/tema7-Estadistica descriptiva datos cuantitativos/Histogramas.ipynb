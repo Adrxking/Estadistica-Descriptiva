{
 "cells": [
  {
   "cell_type": "markdown",
   "id": "239ba9fa",
   "metadata": {},
   "source": [
    "# Histogramas en Python"
   ]
  },
  {
   "cell_type": "markdown",
   "id": "94b79e73",
   "metadata": {},
   "source": [
    "## Histogramas en Python puro"
   ]
  },
  {
   "cell_type": "code",
   "execution_count": 1,
   "id": "54df0fe4",
   "metadata": {},
   "outputs": [],
   "source": [
    "# Vector de datos\n",
    "x = (0,1,1,1,2,2,3,7,7,7,25)"
   ]
  },
  {
   "cell_type": "code",
   "execution_count": 2,
   "id": "a91282b2",
   "metadata": {},
   "outputs": [],
   "source": [
    "def count_elements(seq) -> dict:\n",
    "    \"\"\"Funcion que cuenta las frecuencias de aparicion de cada \n",
    "    elemento de la secuencia, creando un diccionario como \n",
    "    si fuese una tabla de frecuencias\"\"\"\n",
    "    hist = {}\n",
    "    for i in seq:\n",
    "        hist[i] = hist.get(i , 0) + 1\n",
    "    return hist"
   ]
  },
  {
   "cell_type": "code",
   "execution_count": 3,
   "id": "bf927344",
   "metadata": {},
   "outputs": [],
   "source": [
    "fAbs = count_elements(x)"
   ]
  },
  {
   "cell_type": "code",
   "execution_count": 5,
   "id": "724f08b0",
   "metadata": {},
   "outputs": [
    {
     "data": {
      "text/plain": [
       "{0: 1, 1: 3, 2: 2, 3: 1, 7: 3, 25: 1}"
      ]
     },
     "execution_count": 5,
     "metadata": {},
     "output_type": "execute_result"
    }
   ],
   "source": [
    "# Obtener las frecuencias absolutas con nuestra funcion\n",
    "fAbs"
   ]
  },
  {
   "cell_type": "code",
   "execution_count": 6,
   "id": "2de1aff3",
   "metadata": {},
   "outputs": [],
   "source": [
    "from collections import Counter"
   ]
  },
  {
   "cell_type": "code",
   "execution_count": 8,
   "id": "b8b95bdc",
   "metadata": {},
   "outputs": [],
   "source": [
    "fAbs2 = Counter(x)"
   ]
  },
  {
   "cell_type": "code",
   "execution_count": 9,
   "id": "c74a824a",
   "metadata": {},
   "outputs": [
    {
     "data": {
      "text/plain": [
       "Counter({0: 1, 1: 3, 2: 2, 3: 1, 7: 3, 25: 1})"
      ]
     },
     "execution_count": 9,
     "metadata": {},
     "output_type": "execute_result"
    }
   ],
   "source": [
    "# Obtener las frecuencias absolutas del paquete collections\n",
    "fAbs2"
   ]
  },
  {
   "cell_type": "code",
   "execution_count": 10,
   "id": "5d1d3b81",
   "metadata": {},
   "outputs": [
    {
     "data": {
      "text/plain": [
       "True"
      ]
     },
     "execution_count": 10,
     "metadata": {},
     "output_type": "execute_result"
    }
   ],
   "source": [
    "fAbs.items() == fAbs2.items()"
   ]
  },
  {
   "cell_type": "code",
   "execution_count": 11,
   "id": "009cf111",
   "metadata": {},
   "outputs": [],
   "source": [
    "# Crear una funcion que genere un histograma\n",
    "def ascii_histogram(seq) -> None:\n",
    "    \"\"\"\n",
    "    Un histograma de frecuencias absolutas\n",
    "    colocado en horizontal y con caracteres ASCII\n",
    "    \"\"\"\n",
    "    fAbs = count_elements(seq)\n",
    "    for k in sorted(fAbs):\n",
    "        print('{0:5d} {1}'.format(k, '+'*fAbs[k]))"
   ]
  },
  {
   "cell_type": "code",
   "execution_count": 12,
   "id": "f919b8a8",
   "metadata": {},
   "outputs": [
    {
     "name": "stdout",
     "output_type": "stream",
     "text": [
      "    0 +\n",
      "    1 +++\n",
      "    2 ++\n",
      "    3 +\n",
      "    7 +++\n",
      "   25 +\n"
     ]
    }
   ],
   "source": [
    "ascii_histogram(x)"
   ]
  },
  {
   "cell_type": "code",
   "execution_count": 13,
   "id": "b7099350",
   "metadata": {},
   "outputs": [],
   "source": [
    "import random\n",
    "random.seed(2019)"
   ]
  },
  {
   "cell_type": "code",
   "execution_count": 24,
   "id": "c7fdbb28",
   "metadata": {},
   "outputs": [],
   "source": [
    "vals = [1,2,3,5,7,8,9,10]\n",
    "freqs = (random.randint(5,20) for _ in vals)"
   ]
  },
  {
   "cell_type": "code",
   "execution_count": 25,
   "id": "b22b54f0",
   "metadata": {},
   "outputs": [],
   "source": [
    "data = []\n",
    "for k, v in zip(vals, freqs):\n",
    "    data.extend([k]*v)"
   ]
  },
  {
   "cell_type": "code",
   "execution_count": 28,
   "id": "28fd8945",
   "metadata": {},
   "outputs": [
    {
     "name": "stdout",
     "output_type": "stream",
     "text": [
      "    1 ++++++++++++++++\n",
      "    2 +++++++++++++++\n",
      "    3 +++++++++++++\n",
      "    5 +++++++++++\n",
      "    7 ++++++++++++++++++++\n",
      "    8 ++++++++\n",
      "    9 ++++++++\n",
      "   10 ++++++++++\n"
     ]
    }
   ],
   "source": [
    "ascii_histogram(data)"
   ]
  },
  {
   "cell_type": "markdown",
   "id": "7c937502",
   "metadata": {},
   "source": [
    "## Histogramas con NumPy"
   ]
  },
  {
   "cell_type": "code",
   "execution_count": 29,
   "id": "a70552ac",
   "metadata": {},
   "outputs": [],
   "source": [
    "import numpy as np"
   ]
  },
  {
   "cell_type": "code",
   "execution_count": 30,
   "id": "7170a162",
   "metadata": {},
   "outputs": [],
   "source": [
    "np.random.seed(2019)"
   ]
  },
  {
   "cell_type": "code",
   "execution_count": 31,
   "id": "8100f4b8",
   "metadata": {},
   "outputs": [],
   "source": [
    "# Cambiar los ajustes con los que imprime numpy\n",
    "np.set_printoptions(precision=3)"
   ]
  },
  {
   "cell_type": "code",
   "execution_count": 32,
   "id": "8a300541",
   "metadata": {},
   "outputs": [],
   "source": [
    "x = np.random.laplace(loc=19, scale=3, size=1000)"
   ]
  },
  {
   "cell_type": "code",
   "execution_count": 36,
   "id": "5a854fba",
   "metadata": {},
   "outputs": [
    {
     "data": {
      "text/plain": [
       "array([23.935, 18.278, 19.855, 19.968, 23.294, 17.459, 20.555, 23.926,\n",
       "       23.316, 18.373])"
      ]
     },
     "execution_count": 36,
     "metadata": {},
     "output_type": "execute_result"
    }
   ],
   "source": [
    "x[:10]"
   ]
  },
  {
   "cell_type": "code",
   "execution_count": 37,
   "id": "fd750b69",
   "metadata": {},
   "outputs": [],
   "source": [
    "hist, bin_edges = np.histogram(x)"
   ]
  },
  {
   "cell_type": "code",
   "execution_count": 40,
   "id": "5837998d",
   "metadata": {},
   "outputs": [
    {
     "data": {
      "text/plain": [
       "array([  1,   0,   0,   8,  48, 194, 542, 167,  31,   9], dtype=int64)"
      ]
     },
     "execution_count": 40,
     "metadata": {},
     "output_type": "execute_result"
    }
   ],
   "source": [
    "# Observaciones entre cada intervalo\n",
    "hist"
   ]
  },
  {
   "cell_type": "code",
   "execution_count": 41,
   "id": "bb8c446e",
   "metadata": {},
   "outputs": [
    {
     "data": {
      "text/plain": [
       "array([-10.167,  -5.642,  -1.118,   3.407,   7.931,  12.455,  16.98 ,\n",
       "        21.504,  26.029,  30.553,  35.077])"
      ]
     },
     "execution_count": 41,
     "metadata": {},
     "output_type": "execute_result"
    }
   ],
   "source": [
    "# Extremos\n",
    "bin_edges"
   ]
  },
  {
   "cell_type": "code",
   "execution_count": 42,
   "id": "6eb8d801",
   "metadata": {},
   "outputs": [
    {
     "data": {
      "text/plain": [
       "(10, 11)"
      ]
     },
     "execution_count": 42,
     "metadata": {},
     "output_type": "execute_result"
    }
   ],
   "source": [
    "hist.size, bin_edges.size"
   ]
  },
  {
   "cell_type": "code",
   "execution_count": 44,
   "id": "9617a9de",
   "metadata": {},
   "outputs": [],
   "source": [
    "min_edge = x.min()\n",
    "max_edge = x.max()"
   ]
  },
  {
   "cell_type": "code",
   "execution_count": 47,
   "id": "4ac9eddb",
   "metadata": {},
   "outputs": [],
   "source": [
    "# Obtener los extremos de forma manual\n",
    "n_bins = 10\n",
    "bin_edges = np.linspace(start=min_edge, stop=max_edge, num=n_bins+1, endpoint=True)"
   ]
  },
  {
   "cell_type": "code",
   "execution_count": 48,
   "id": "cea73f78",
   "metadata": {},
   "outputs": [
    {
     "data": {
      "text/plain": [
       "array([-10.167,  -5.642,  -1.118,   3.407,   7.931,  12.455,  16.98 ,\n",
       "        21.504,  26.029,  30.553,  35.077])"
      ]
     },
     "execution_count": 48,
     "metadata": {},
     "output_type": "execute_result"
    }
   ],
   "source": [
    "bin_edges"
   ]
  },
  {
   "cell_type": "markdown",
   "id": "d0a828a2",
   "metadata": {},
   "source": [
    "## Visualizacion de histogramas con matplotlib y Pandas"
   ]
  },
  {
   "cell_type": "code",
   "execution_count": 49,
   "id": "7668ac2a",
   "metadata": {},
   "outputs": [],
   "source": [
    "import matplotlib.pyplot as plt"
   ]
  },
  {
   "cell_type": "code",
   "execution_count": 56,
   "id": "464c01c1",
   "metadata": {},
   "outputs": [
    {
     "data": {
      "text/plain": [
       "(0.0, 140.0)"
      ]
     },
     "execution_count": 56,
     "metadata": {},
     "output_type": "execute_result"
    },
    {
     "data": {
      "image/png": "[encoded data removed]",
      "text/plain": [
       "<Figure size 432x288 with 1 Axes>"
      ]
     },
     "metadata": {
      "needs_background": "light"
     },
     "output_type": "display_data"
    }
   ],
   "source": [
    "n, bins, patches = plt.hist(x = x, bins = \"auto\", color = \"#0505a5\", \n",
    "                            alpha=0.75, rwidth = 0.85)\n",
    "plt.grid(axis = \"y\", alpha = 0.5)\n",
    "plt.xlabel(\"Valor\")\n",
    "plt.ylabel(\"Frecuencia\")\n",
    "plt.title(\"Un histograma de frecuencias\")\n",
    "plt.text(0, 80, r'$\\mu = 10, b = 3$')\n",
    "maxfreq = n.max()\n",
    "plt.ylim(ymax=np.ceil(maxfreq/10)*10 if maxfreq%10 else maxfreq + 10)"
   ]
  },
  {
   "cell_type": "code",
   "execution_count": 53,
   "id": "55228036",
   "metadata": {},
   "outputs": [
    {
     "data": {
      "text/plain": [
       "array([  1.,   0.,   0.,   0.,   0.,   0.,   0.,   0.,   0.,   0.,   0.,\n",
       "         0.,   0.,   0.,   0.,   0.,   0.,   0.,   0.,   0.,   3.,   0.,\n",
       "         4.,   5.,   8.,   4.,   7.,  12.,  13.,  15.,  15.,  23.,  39.,\n",
       "        53.,  62.,  81., 113., 132.,  92.,  77.,  54.,  42.,  35.,  31.,\n",
       "        20.,  14.,   9.,  10.,   3.,   5.,   5.,   4.,   3.,   1.,   2.,\n",
       "         0.,   2.,   1.])"
      ]
     },
     "execution_count": 53,
     "metadata": {},
     "output_type": "execute_result"
    }
   ],
   "source": [
    "n"
   ]
  },
  {
   "cell_type": "code",
   "execution_count": 57,
   "id": "a3998573",
   "metadata": {},
   "outputs": [
    {
     "data": {
      "text/plain": [
       "array([-1.017e+01, -9.387e+00, -8.606e+00, -7.826e+00, -7.046e+00,\n",
       "       -6.266e+00, -5.486e+00, -4.706e+00, -3.926e+00, -3.146e+00,\n",
       "       -2.366e+00, -1.586e+00, -8.058e-01, -2.568e-02,  7.544e-01,\n",
       "        1.534e+00,  2.315e+00,  3.095e+00,  3.875e+00,  4.655e+00,\n",
       "        5.435e+00,  6.215e+00,  6.995e+00,  7.775e+00,  8.555e+00,\n",
       "        9.335e+00,  1.012e+01,  1.090e+01,  1.168e+01,  1.246e+01,\n",
       "        1.324e+01,  1.402e+01,  1.480e+01,  1.558e+01,  1.636e+01,\n",
       "        1.714e+01,  1.792e+01,  1.870e+01,  1.948e+01,  2.026e+01,\n",
       "        2.104e+01,  2.182e+01,  2.260e+01,  2.338e+01,  2.416e+01,\n",
       "        2.494e+01,  2.572e+01,  2.650e+01,  2.728e+01,  2.806e+01,\n",
       "        2.884e+01,  2.962e+01,  3.040e+01,  3.118e+01,  3.196e+01,\n",
       "        3.274e+01,  3.352e+01,  3.430e+01,  3.508e+01])"
      ]
     },
     "execution_count": 57,
     "metadata": {},
     "output_type": "execute_result"
    }
   ],
   "source": [
    "# Obtener los extremos\n",
    "bins"
   ]
  },
  {
   "cell_type": "code",
   "execution_count": 58,
   "id": "e63f7892",
   "metadata": {},
   "outputs": [
    {
     "data": {
      "text/plain": [
       "<BarContainer object of 58 artists>"
      ]
     },
     "execution_count": 58,
     "metadata": {},
     "output_type": "execute_result"
    }
   ],
   "source": [
    "# Obtener el numero de divisiones\n",
    "patches"
   ]
  },
  {
   "cell_type": "code",
   "execution_count": 60,
   "id": "78ab18bf",
   "metadata": {},
   "outputs": [],
   "source": [
    "import pandas as pd"
   ]
  },
  {
   "cell_type": "code",
   "execution_count": 61,
   "id": "5847f807",
   "metadata": {},
   "outputs": [],
   "source": [
    "size, scale = 1000, 10"
   ]
  },
  {
   "cell_type": "code",
   "execution_count": 62,
   "id": "cf93ff08",
   "metadata": {},
   "outputs": [],
   "source": [
    "data = pd.Series(np.random.gamma(scale, size = size))"
   ]
  },
  {
   "cell_type": "code",
   "execution_count": 65,
   "id": "eb23f2f6",
   "metadata": {},
   "outputs": [
    {
     "data": {
      "image/png": "[encoded data removed]",
      "text/plain": [
       "<Figure size 432x288 with 1 Axes>"
      ]
     },
     "metadata": {
      "needs_background": "light"
     },
     "output_type": "display_data"
    }
   ],
   "source": [
    "data.plot.hist(grid = True, bins = 20, rwidth = 0.9, color = \"#d52675\")\n",
    "plt.title(\"Distribucion Gamma\")\n",
    "plt.xlabel(\"Valores\")\n",
    "plt.ylabel(\"Frecuencias\")\n",
    "plt.grid(axis = \"y\", alpha=0.75)"
   ]
  },
  {
   "cell_type": "markdown",
   "id": "4b652334",
   "metadata": {},
   "source": [
    "## Funciones de densidad y probabilidad"
   ]
  },
  {
   "cell_type": "code",
   "execution_count": 66,
   "id": "b4a6b7f0",
   "metadata": {},
   "outputs": [],
   "source": [
    "mu = 10, 20\n",
    "sigma = 5, 2\n",
    "dist = pd.DataFrame(np.random.normal(loc = mu, scale = sigma, size = (1000, 2)),\n",
    "                    columns=['x1', 'x2'])"
   ]
  },
  {
   "cell_type": "code",
   "execution_count": 68,
   "id": "a003d315",
   "metadata": {},
   "outputs": [
    {
     "data": {
      "text/html": [
       "<div>\n",
       "<style scoped>\n",
       "    .dataframe tbody tr th:only-of-type {\n",
       "        vertical-align: middle;\n",
       "    }\n",
       "\n",
       "    .dataframe tbody tr th {\n",
       "        vertical-align: top;\n",
       "    }\n",
       "\n",
       "    .dataframe thead th {\n",
       "        text-align: right;\n",
       "    }\n",
       "</style>\n",
       "<table border=\"1\" class=\"dataframe\">\n",
       "  <thead>\n",
       "    <tr style=\"text-align: right;\">\n",
       "      <th></th>\n",
       "      <th>x1</th>\n",
       "      <th>x2</th>\n",
       "    </tr>\n",
       "  </thead>\n",
       "  <tbody>\n",
       "    <tr>\n",
       "      <th>min</th>\n",
       "      <td>-5.83</td>\n",
       "      <td>13.84</td>\n",
       "    </tr>\n",
       "    <tr>\n",
       "      <th>max</th>\n",
       "      <td>26.05</td>\n",
       "      <td>27.17</td>\n",
       "    </tr>\n",
       "    <tr>\n",
       "      <th>mean</th>\n",
       "      <td>9.96</td>\n",
       "      <td>19.89</td>\n",
       "    </tr>\n",
       "    <tr>\n",
       "      <th>std</th>\n",
       "      <td>4.97</td>\n",
       "      <td>1.96</td>\n",
       "    </tr>\n",
       "  </tbody>\n",
       "</table>\n",
       "</div>"
      ],
      "text/plain": [
       "         x1     x2\n",
       "min   -5.83  13.84\n",
       "max   26.05  27.17\n",
       "mean   9.96  19.89\n",
       "std    4.97   1.96"
      ]
     },
     "execution_count": 68,
     "metadata": {},
     "output_type": "execute_result"
    }
   ],
   "source": [
    "dist.agg(['min', 'max', 'mean', 'std']).round(decimals = 2)"
   ]
  },
  {
   "cell_type": "code",
   "execution_count": 73,
   "id": "2c123ffb",
   "metadata": {},
   "outputs": [
    {
     "data": {
      "image/png": "[encoded data removed]",
      "text/plain": [
       "<Figure size 432x288 with 1 Axes>"
      ]
     },
     "metadata": {
      "needs_background": "light"
     },
     "output_type": "display_data"
    }
   ],
   "source": [
    "fig, ax = plt.subplots()\n",
    "dist.plot.kde(ax=ax, legend=False, title=\"Histograma de dos normales\")\n",
    "dist.plot.hist(density=True, ax = ax)\n",
    "ax.set_ylabel(\"Probabilidad\")\n",
    "ax.grid(axis=\"y\", alpha=0.75)\n",
    "ax.set_facecolor(\"#d5d5d5\")"
   ]
  },
  {
   "cell_type": "code",
   "execution_count": 74,
   "id": "2817ad2d",
   "metadata": {},
   "outputs": [],
   "source": [
    "from scipy import stats"
   ]
  },
  {
   "cell_type": "code",
   "execution_count": 75,
   "id": "a5330794",
   "metadata": {},
   "outputs": [],
   "source": [
    "dist = stats.norm() # Distribucion normal teorica N(0,1) - exp(-x**2/2)/sqrt(2*pi)"
   ]
  },
  {
   "cell_type": "code",
   "execution_count": 80,
   "id": "09848da2",
   "metadata": {},
   "outputs": [],
   "source": [
    "sample = dist.rvs(size = 1000)"
   ]
  },
  {
   "cell_type": "code",
   "execution_count": 82,
   "id": "c947992c",
   "metadata": {},
   "outputs": [],
   "source": [
    "x = np.linspace(start = stats.norm.ppf(0.01), stop = stats.norm.ppf(0.99),\n",
    "                 num = 250)"
   ]
  },
  {
   "cell_type": "code",
   "execution_count": 83,
   "id": "dfb10dcb",
   "metadata": {},
   "outputs": [],
   "source": [
    "gkde = stats.gaussian_kde(dataset=sample)"
   ]
  },
  {
   "cell_type": "code",
   "execution_count": 84,
   "id": "c9869009",
   "metadata": {},
   "outputs": [
    {
     "data": {
      "text/plain": [
       "Text(-2, 0.35, '$f(x) = \\\\frac{e^{-x^2/2}}{\\\\sqrt{2/pi}}$')"
      ]
     },
     "execution_count": 84,
     "metadata": {},
     "output_type": "execute_result"
    },
    {
     "data": {
      "image/png": "[encoded data removed]",
      "text/plain": [
       "<Figure size 432x288 with 1 Axes>"
      ]
     },
     "metadata": {
      "needs_background": "light"
     },
     "output_type": "display_data"
    }
   ],
   "source": [
    "fig, ax = plt.subplots()\n",
    "ax.plot(x, dist.pdf(x), linestyle = \"solid\", c=\"red\", lw=3, alpha=0.8, \n",
    "       label = \"Distribucion normal teorica\")\n",
    "ax.plot(x, gkde.evaluate(x), linestyle = \"dashed\", c=\"green\", lw=2, \n",
    "       label = \"PDF estimada por KDE\")\n",
    "ax.legend(loc = \"best\", frameon=False)\n",
    "ax.set_title(\"Normal analitica vs estimada\")\n",
    "ax.set_ylabel(\"Probabilidad\")\n",
    "ax.text(-2, 0.35, r'$f(x) = \\frac{e^{-x^2/2}}{\\sqrt{2/pi}}$', fontsize=14)"
   ]
  },
  {
   "cell_type": "markdown",
   "id": "76bba3b4",
   "metadata": {},
   "source": [
    "## Histogramas con Seaborn"
   ]
  },
  {
   "cell_type": "code",
   "execution_count": 85,
   "id": "a647c1ff",
   "metadata": {},
   "outputs": [],
   "source": [
    "import seaborn as sb"
   ]
  },
  {
   "cell_type": "code",
   "execution_count": 88,
   "id": "2388c463",
   "metadata": {},
   "outputs": [
    {
     "data": {
      "image/png": "[encoded data removed]",
      "text/plain": [
       "<Figure size 360x360 with 1 Axes>"
      ]
     },
     "metadata": {
      "needs_background": "light"
     },
     "output_type": "display_data"
    }
   ],
   "source": [
    "sb.displot(data)\n",
    "plt.show()"
   ]
  },
  {
   "cell_type": "code",
   "execution_count": 93,
   "id": "7799f136",
   "metadata": {},
   "outputs": [
    {
     "data": {
      "image/png": "[encoded data removed]",
      "text/plain": [
       "<Figure size 360x360 with 1 Axes>"
      ]
     },
     "metadata": {},
     "output_type": "display_data"
    }
   ],
   "source": [
    "sb.set_style(\"darkgrid\")\n",
    "sb.displot(data)\n",
    "plt.show()"
   ]
  },
  {
   "cell_type": "code",
   "execution_count": 96,
   "id": "d3783a90",
   "metadata": {},
   "outputs": [
    {
     "name": "stderr",
     "output_type": "stream",
     "text": [
      "C:\\Users\\adria\\anaconda3\\lib\\site-packages\\seaborn\\distributions.py:2557: FutureWarning: `distplot` is a deprecated function and will be removed in a future version. Please adapt your code to use either `displot` (a figure-level function with similar flexibility) or `histplot` (an axes-level function for histograms).\n",
      "  warnings.warn(msg, FutureWarning)\n"
     ]
    },
    {
     "data": {
      "text/plain": [
       "<AxesSubplot:ylabel='Density'>"
      ]
     },
     "execution_count": 96,
     "metadata": {},
     "output_type": "execute_result"
    },
    {
     "data": {
      "image/png": "[encoded data removed]",
      "text/plain": [
       "<Figure size 432x288 with 1 Axes>"
      ]
     },
     "metadata": {},
     "output_type": "display_data"
    }
   ],
   "source": [
    "sb.distplot(data, fit=stats.laplace)"
   ]
  },
  {
   "cell_type": "code",
   "execution_count": 98,
   "id": "e63b44c4",
   "metadata": {},
   "outputs": [
    {
     "name": "stderr",
     "output_type": "stream",
     "text": [
      "C:\\Users\\adria\\anaconda3\\lib\\site-packages\\seaborn\\distributions.py:2557: FutureWarning: `distplot` is a deprecated function and will be removed in a future version. Please adapt your code to use either `displot` (a figure-level function with similar flexibility) or `histplot` (an axes-level function for histograms).\n",
      "  warnings.warn(msg, FutureWarning)\n"
     ]
    },
    {
     "data": {
      "image/png": "[encoded data removed]",
      "text/plain": [
       "<Figure size 432x288 with 1 Axes>"
      ]
     },
     "metadata": {},
     "output_type": "display_data"
    }
   ],
   "source": [
    "sb.distplot(data, fit=stats.laplace, kde=False)\n",
    "plt.show()"
   ]
  },
  {
   "cell_type": "markdown",
   "id": "e8488037",
   "metadata": {},
   "source": [
    "## Otras formas"
   ]
  },
  {
   "cell_type": "code",
   "execution_count": 100,
   "id": "a138d589",
   "metadata": {},
   "outputs": [],
   "source": [
    "data2 = np.random.choice(np.arange(10), size=10000, p = np.linspace(1,11,10)/60)"
   ]
  },
  {
   "cell_type": "code",
   "execution_count": 101,
   "id": "7c28d2f7",
   "metadata": {},
   "outputs": [],
   "source": [
    "s = pd.Series(data2)"
   ]
  },
  {
   "cell_type": "code",
   "execution_count": 102,
   "id": "754ed349",
   "metadata": {},
   "outputs": [
    {
     "data": {
      "text/plain": [
       "9    1826\n",
       "8    1650\n",
       "7    1524\n",
       "6    1288\n",
       "5    1103\n",
       "4     874\n",
       "3     697\n",
       "2     524\n",
       "1     359\n",
       "0     155\n",
       "dtype: int64"
      ]
     },
     "execution_count": 102,
     "metadata": {},
     "output_type": "execute_result"
    }
   ],
   "source": [
    "s.value_counts()"
   ]
  },
  {
   "cell_type": "code",
   "execution_count": 103,
   "id": "425038bb",
   "metadata": {},
   "outputs": [
    {
     "data": {
      "text/plain": [
       "9    0.1826\n",
       "8    0.1650\n",
       "7    0.1524\n",
       "6    0.1288\n",
       "5    0.1103\n",
       "4    0.0874\n",
       "3    0.0697\n",
       "2    0.0524\n",
       "1    0.0359\n",
       "0    0.0155\n",
       "dtype: float64"
      ]
     },
     "execution_count": 103,
     "metadata": {},
     "output_type": "execute_result"
    }
   ],
   "source": [
    "s.value_counts(normalize=True)"
   ]
  },
  {
   "cell_type": "code",
   "execution_count": 104,
   "id": "4b171717",
   "metadata": {},
   "outputs": [],
   "source": [
    "ages = pd.Series([1,1,3,5,6,8,9,10,12,15,18,18,18,20,25,30,40,51,52])"
   ]
  },
  {
   "cell_type": "code",
   "execution_count": 106,
   "id": "d3486d22",
   "metadata": {},
   "outputs": [],
   "source": [
    "# Divisiones\n",
    "bins = (0,10,15,18,21,np.inf)\n",
    "labels = ('infancia', 'preadolescencia', 'adolescencia', 'universitario', 'adulto')\n",
    "groups = pd.cut(ages, bins = bins, labels = labels)"
   ]
  },
  {
   "cell_type": "code",
   "execution_count": 107,
   "id": "8b296a40",
   "metadata": {},
   "outputs": [
    {
     "data": {
      "text/plain": [
       "0            infancia\n",
       "1            infancia\n",
       "2            infancia\n",
       "3            infancia\n",
       "4            infancia\n",
       "5            infancia\n",
       "6            infancia\n",
       "7            infancia\n",
       "8     preadolescencia\n",
       "9     preadolescencia\n",
       "10       adolescencia\n",
       "11       adolescencia\n",
       "12       adolescencia\n",
       "13      universitario\n",
       "14             adulto\n",
       "15             adulto\n",
       "16             adulto\n",
       "17             adulto\n",
       "18             adulto\n",
       "dtype: category\n",
       "Categories (5, object): ['infancia' < 'preadolescencia' < 'adolescencia' < 'universitario' < 'adulto']"
      ]
     },
     "execution_count": 107,
     "metadata": {},
     "output_type": "execute_result"
    }
   ],
   "source": [
    "groups"
   ]
  },
  {
   "cell_type": "code",
   "execution_count": 108,
   "id": "f05cf983",
   "metadata": {},
   "outputs": [
    {
     "data": {
      "text/plain": [
       "infancia           8\n",
       "adulto             5\n",
       "adolescencia       3\n",
       "preadolescencia    2\n",
       "universitario      1\n",
       "dtype: int64"
      ]
     },
     "execution_count": 108,
     "metadata": {},
     "output_type": "execute_result"
    }
   ],
   "source": [
    "groups.value_counts()"
   ]
  },
  {
   "cell_type": "code",
   "execution_count": 109,
   "id": "c0da7674",
   "metadata": {},
   "outputs": [
    {
     "data": {
      "text/html": [
       "<div>\n",
       "<style scoped>\n",
       "    .dataframe tbody tr th:only-of-type {\n",
       "        vertical-align: middle;\n",
       "    }\n",
       "\n",
       "    .dataframe tbody tr th {\n",
       "        vertical-align: top;\n",
       "    }\n",
       "\n",
       "    .dataframe thead th {\n",
       "        text-align: right;\n",
       "    }\n",
       "</style>\n",
       "<table border=\"1\" class=\"dataframe\">\n",
       "  <thead>\n",
       "    <tr style=\"text-align: right;\">\n",
       "      <th></th>\n",
       "      <th>age</th>\n",
       "      <th>group</th>\n",
       "    </tr>\n",
       "  </thead>\n",
       "  <tbody>\n",
       "    <tr>\n",
       "      <th>0</th>\n",
       "      <td>1</td>\n",
       "      <td>infancia</td>\n",
       "    </tr>\n",
       "    <tr>\n",
       "      <th>1</th>\n",
       "      <td>1</td>\n",
       "      <td>infancia</td>\n",
       "    </tr>\n",
       "    <tr>\n",
       "      <th>2</th>\n",
       "      <td>3</td>\n",
       "      <td>infancia</td>\n",
       "    </tr>\n",
       "    <tr>\n",
       "      <th>3</th>\n",
       "      <td>5</td>\n",
       "      <td>infancia</td>\n",
       "    </tr>\n",
       "    <tr>\n",
       "      <th>4</th>\n",
       "      <td>6</td>\n",
       "      <td>infancia</td>\n",
       "    </tr>\n",
       "    <tr>\n",
       "      <th>5</th>\n",
       "      <td>8</td>\n",
       "      <td>infancia</td>\n",
       "    </tr>\n",
       "    <tr>\n",
       "      <th>6</th>\n",
       "      <td>9</td>\n",
       "      <td>infancia</td>\n",
       "    </tr>\n",
       "    <tr>\n",
       "      <th>7</th>\n",
       "      <td>10</td>\n",
       "      <td>infancia</td>\n",
       "    </tr>\n",
       "    <tr>\n",
       "      <th>8</th>\n",
       "      <td>12</td>\n",
       "      <td>preadolescencia</td>\n",
       "    </tr>\n",
       "    <tr>\n",
       "      <th>9</th>\n",
       "      <td>15</td>\n",
       "      <td>preadolescencia</td>\n",
       "    </tr>\n",
       "    <tr>\n",
       "      <th>10</th>\n",
       "      <td>18</td>\n",
       "      <td>adolescencia</td>\n",
       "    </tr>\n",
       "    <tr>\n",
       "      <th>11</th>\n",
       "      <td>18</td>\n",
       "      <td>adolescencia</td>\n",
       "    </tr>\n",
       "    <tr>\n",
       "      <th>12</th>\n",
       "      <td>18</td>\n",
       "      <td>adolescencia</td>\n",
       "    </tr>\n",
       "    <tr>\n",
       "      <th>13</th>\n",
       "      <td>20</td>\n",
       "      <td>universitario</td>\n",
       "    </tr>\n",
       "    <tr>\n",
       "      <th>14</th>\n",
       "      <td>25</td>\n",
       "      <td>adulto</td>\n",
       "    </tr>\n",
       "    <tr>\n",
       "      <th>15</th>\n",
       "      <td>30</td>\n",
       "      <td>adulto</td>\n",
       "    </tr>\n",
       "    <tr>\n",
       "      <th>16</th>\n",
       "      <td>40</td>\n",
       "      <td>adulto</td>\n",
       "    </tr>\n",
       "    <tr>\n",
       "      <th>17</th>\n",
       "      <td>51</td>\n",
       "      <td>adulto</td>\n",
       "    </tr>\n",
       "    <tr>\n",
       "      <th>18</th>\n",
       "      <td>52</td>\n",
       "      <td>adulto</td>\n",
       "    </tr>\n",
       "  </tbody>\n",
       "</table>\n",
       "</div>"
      ],
      "text/plain": [
       "    age            group\n",
       "0     1         infancia\n",
       "1     1         infancia\n",
       "2     3         infancia\n",
       "3     5         infancia\n",
       "4     6         infancia\n",
       "5     8         infancia\n",
       "6     9         infancia\n",
       "7    10         infancia\n",
       "8    12  preadolescencia\n",
       "9    15  preadolescencia\n",
       "10   18     adolescencia\n",
       "11   18     adolescencia\n",
       "12   18     adolescencia\n",
       "13   20    universitario\n",
       "14   25           adulto\n",
       "15   30           adulto\n",
       "16   40           adulto\n",
       "17   51           adulto\n",
       "18   52           adulto"
      ]
     },
     "execution_count": 109,
     "metadata": {},
     "output_type": "execute_result"
    }
   ],
   "source": [
    "pd.concat((ages, groups), axis=1).rename(columns={0:'age', 1:'group'})"
   ]
  },
  {
   "cell_type": "code",
   "execution_count": null,
   "id": "4051cd6b",
   "metadata": {},
   "outputs": [],
   "source": []
  }
 ],
 "metadata": {
  "kernelspec": {
   "display_name": "Python 3",
   "language": "python",
   "name": "python3"
  },
  "language_info": {
   "codemirror_mode": {
    "name": "ipython",
    "version": 3
   },
   "file_extension": ".py",
   "mimetype": "text/x-python",
   "name": "python",
   "nbconvert_exporter": "python",
   "pygments_lexer": "ipython3",
   "version": "3.8.8"
  }
 },
 "nbformat": 4,
 "nbformat_minor": 5
}
