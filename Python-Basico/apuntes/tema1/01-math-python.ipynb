{
 "cells": [
  {
   "cell_type": "markdown",
   "id": "3e05ac4d",
   "metadata": {},
   "source": [
    "# Constantes en Python"
   ]
  },
  {
   "cell_type": "code",
   "execution_count": 1,
   "id": "284ae97b",
   "metadata": {},
   "outputs": [],
   "source": [
    "import math"
   ]
  },
  {
   "cell_type": "code",
   "execution_count": 2,
   "id": "ee6e2573",
   "metadata": {},
   "outputs": [
    {
     "data": {
      "text/plain": [
       "3.141592653589793"
      ]
     },
     "execution_count": 2,
     "metadata": {},
     "output_type": "execute_result"
    }
   ],
   "source": [
    "math.pi"
   ]
  },
  {
   "cell_type": "code",
   "execution_count": 9,
   "id": "d2cef7f0",
   "metadata": {},
   "outputs": [
    {
     "data": {
      "text/plain": [
       "2.718281828459045"
      ]
     },
     "execution_count": 9,
     "metadata": {},
     "output_type": "execute_result"
    }
   ],
   "source": [
    "math.e"
   ]
  },
  {
   "cell_type": "markdown",
   "id": "b50068a2",
   "metadata": {},
   "source": [
    "##### Tau es 2 * pi"
   ]
  },
  {
   "cell_type": "code",
   "execution_count": 10,
   "id": "53ae87ab",
   "metadata": {},
   "outputs": [
    {
     "data": {
      "text/plain": [
       "6.283185307179586"
      ]
     },
     "execution_count": 10,
     "metadata": {},
     "output_type": "execute_result"
    }
   ],
   "source": [
    "math.tau"
   ]
  },
  {
   "cell_type": "code",
   "execution_count": 5,
   "id": "3f1e17bb",
   "metadata": {},
   "outputs": [
    {
     "data": {
      "text/plain": [
       "inf"
      ]
     },
     "execution_count": 5,
     "metadata": {},
     "output_type": "execute_result"
    }
   ],
   "source": [
    "math.inf"
   ]
  },
  {
   "cell_type": "code",
   "execution_count": 6,
   "id": "2978562e",
   "metadata": {},
   "outputs": [
    {
     "data": {
      "text/plain": [
       "-inf"
      ]
     },
     "execution_count": 6,
     "metadata": {},
     "output_type": "execute_result"
    }
   ],
   "source": [
    "-math.inf"
   ]
  },
  {
   "cell_type": "code",
   "execution_count": 7,
   "id": "791364a3",
   "metadata": {},
   "outputs": [
    {
     "data": {
      "text/plain": [
       "inf"
      ]
     },
     "execution_count": 7,
     "metadata": {},
     "output_type": "execute_result"
    }
   ],
   "source": [
    "float('inf')"
   ]
  },
  {
   "cell_type": "code",
   "execution_count": 11,
   "id": "56e578ff",
   "metadata": {},
   "outputs": [
    {
     "data": {
      "text/plain": [
       "nan"
      ]
     },
     "execution_count": 11,
     "metadata": {},
     "output_type": "execute_result"
    }
   ],
   "source": [
    "math.nan"
   ]
  },
  {
   "cell_type": "code",
   "execution_count": 12,
   "id": "8c0b10ed",
   "metadata": {},
   "outputs": [
    {
     "data": {
      "text/plain": [
       "nan"
      ]
     },
     "execution_count": 12,
     "metadata": {},
     "output_type": "execute_result"
    }
   ],
   "source": [
    "float('nan')"
   ]
  },
  {
   "cell_type": "code",
   "execution_count": 13,
   "id": "4047278c",
   "metadata": {},
   "outputs": [
    {
     "ename": "ValueError",
     "evalue": "math domain error",
     "output_type": "error",
     "traceback": [
      "\u001b[1;31m---------------------------------------------------------------------------\u001b[0m",
      "\u001b[1;31mValueError\u001b[0m                                Traceback (most recent call last)",
      "\u001b[1;32m~\\AppData\\Local\\Temp/ipykernel_10296/2272264683.py\u001b[0m in \u001b[0;36m<module>\u001b[1;34m\u001b[0m\n\u001b[1;32m----> 1\u001b[1;33m \u001b[0mmath\u001b[0m\u001b[1;33m.\u001b[0m\u001b[0msqrt\u001b[0m\u001b[1;33m(\u001b[0m\u001b[1;33m-\u001b[0m\u001b[1;36m1\u001b[0m\u001b[1;33m)\u001b[0m\u001b[1;33m\u001b[0m\u001b[1;33m\u001b[0m\u001b[0m\n\u001b[0m",
      "\u001b[1;31mValueError\u001b[0m: math domain error"
     ]
    }
   ],
   "source": [
    "math.sqrt(-1)"
   ]
  },
  {
   "cell_type": "code",
   "execution_count": 14,
   "id": "58468531",
   "metadata": {},
   "outputs": [
    {
     "data": {
      "text/plain": [
       "2.6881171418161356e+43"
      ]
     },
     "execution_count": 14,
     "metadata": {},
     "output_type": "execute_result"
    }
   ],
   "source": [
    "math.exp(100)"
   ]
  },
  {
   "cell_type": "markdown",
   "id": "4189815a",
   "metadata": {},
   "source": [
    "#### Pow es potencia"
   ]
  },
  {
   "cell_type": "code",
   "execution_count": 17,
   "id": "6ac91053",
   "metadata": {},
   "outputs": [
    {
     "data": {
      "text/plain": [
       "1.0"
      ]
     },
     "execution_count": 17,
     "metadata": {},
     "output_type": "execute_result"
    }
   ],
   "source": [
    "math.pow(math.nan, 0)"
   ]
  },
  {
   "cell_type": "markdown",
   "id": "bb26c7ea",
   "metadata": {},
   "source": [
    "# Representación Numérica"
   ]
  },
  {
   "cell_type": "code",
   "execution_count": 18,
   "id": "9b20541b",
   "metadata": {},
   "outputs": [
    {
     "data": {
      "text/plain": [
       "4"
      ]
     },
     "execution_count": 18,
     "metadata": {},
     "output_type": "execute_result"
    }
   ],
   "source": [
    "2+2"
   ]
  },
  {
   "cell_type": "code",
   "execution_count": 19,
   "id": "05aba323",
   "metadata": {},
   "outputs": [
    {
     "data": {
      "text/plain": [
       "-2"
      ]
     },
     "execution_count": 19,
     "metadata": {},
     "output_type": "execute_result"
    }
   ],
   "source": [
    "3-5"
   ]
  },
  {
   "cell_type": "code",
   "execution_count": 20,
   "id": "599a37c7",
   "metadata": {},
   "outputs": [
    {
     "data": {
      "text/plain": [
       "15"
      ]
     },
     "execution_count": 20,
     "metadata": {},
     "output_type": "execute_result"
    }
   ],
   "source": [
    "3*5"
   ]
  },
  {
   "cell_type": "code",
   "execution_count": 21,
   "id": "e25a3c73",
   "metadata": {},
   "outputs": [
    {
     "data": {
      "text/plain": [
       "0.6"
      ]
     },
     "execution_count": 21,
     "metadata": {},
     "output_type": "execute_result"
    }
   ],
   "source": [
    "3/5"
   ]
  },
  {
   "cell_type": "code",
   "execution_count": 22,
   "id": "5f9da426",
   "metadata": {},
   "outputs": [
    {
     "data": {
      "text/plain": [
       "4"
      ]
     },
     "execution_count": 22,
     "metadata": {},
     "output_type": "execute_result"
    }
   ],
   "source": [
    "math.ceil(3.4523)"
   ]
  },
  {
   "cell_type": "code",
   "execution_count": 30,
   "id": "1de53e78",
   "metadata": {},
   "outputs": [
    {
     "data": {
      "text/plain": [
       "3"
      ]
     },
     "execution_count": 30,
     "metadata": {},
     "output_type": "execute_result"
    }
   ],
   "source": [
    "math.floor(3.4523)"
   ]
  },
  {
   "cell_type": "code",
   "execution_count": 31,
   "id": "c36bc755",
   "metadata": {},
   "outputs": [
    {
     "data": {
      "text/plain": [
       "3"
      ]
     },
     "execution_count": 31,
     "metadata": {},
     "output_type": "execute_result"
    }
   ],
   "source": [
    "math.trunc(3.4523)"
   ]
  },
  {
   "cell_type": "markdown",
   "id": "639663f0",
   "metadata": {},
   "source": [
    "### Para representar integrales:"
   ]
  },
  {
   "cell_type": "raw",
   "id": "7a6ba23e",
   "metadata": {},
   "source": [
    "$\\int_0^1 x^2 dx$ es igual a:"
   ]
  },
  {
   "cell_type": "markdown",
   "id": "3de0d3c4",
   "metadata": {},
   "source": [
    "$\\int_0^1 x^2 dx$"
   ]
  },
  {
   "cell_type": "markdown",
   "id": "ea18454d",
   "metadata": {},
   "source": [
    "### La función copysign copia del segundo argumento su signo y se lo coloca al primer argumento"
   ]
  },
  {
   "cell_type": "code",
   "execution_count": 28,
   "id": "a6d8b133",
   "metadata": {},
   "outputs": [
    {
     "data": {
      "text/plain": [
       "-3.0"
      ]
     },
     "execution_count": 28,
     "metadata": {},
     "output_type": "execute_result"
    }
   ],
   "source": [
    "math.copysign(3, -0.0)"
   ]
  },
  {
   "cell_type": "markdown",
   "id": "410c3633",
   "metadata": {},
   "source": [
    "### La función fabs devuelve el valor absoluto"
   ]
  },
  {
   "cell_type": "code",
   "execution_count": 29,
   "id": "ea910b2e",
   "metadata": {},
   "outputs": [
    {
     "data": {
      "text/plain": [
       "5.0"
      ]
     },
     "execution_count": 29,
     "metadata": {},
     "output_type": "execute_result"
    }
   ],
   "source": [
    "math.fabs(-5.0)"
   ]
  },
  {
   "cell_type": "markdown",
   "id": "d5e4cc1d",
   "metadata": {},
   "source": [
    "### Para exponer en Python se usa ** en lugar de ^"
   ]
  },
  {
   "cell_type": "code",
   "execution_count": 32,
   "id": "f9ec73e3",
   "metadata": {},
   "outputs": [
    {
     "data": {
      "text/plain": [
       "243"
      ]
     },
     "execution_count": 32,
     "metadata": {},
     "output_type": "execute_result"
    }
   ],
   "source": [
    "3**5"
   ]
  },
  {
   "cell_type": "code",
   "execution_count": 35,
   "id": "783f12fa",
   "metadata": {},
   "outputs": [
    {
     "data": {
      "text/plain": [
       "24"
      ]
     },
     "execution_count": 35,
     "metadata": {},
     "output_type": "execute_result"
    }
   ],
   "source": [
    "math.factorial(4)"
   ]
  },
  {
   "cell_type": "markdown",
   "id": "62064392",
   "metadata": {},
   "source": [
    "### Para obtener los números combinatorios:"
   ]
  },
  {
   "cell_type": "code",
   "execution_count": 40,
   "id": "af679950",
   "metadata": {},
   "outputs": [
    {
     "data": {
      "text/plain": [
       "10.0"
      ]
     },
     "execution_count": 40,
     "metadata": {},
     "output_type": "execute_result"
    }
   ],
   "source": [
    "x = 5\n",
    "y = 2\n",
    "\n",
    "math.factorial(x) / (math.factorial(y) * math.factorial(x-y))"
   ]
  },
  {
   "cell_type": "markdown",
   "id": "3e7188b1",
   "metadata": {},
   "source": [
    "### Es mejor utilizar fmod en lugar de % ya que es más preciso y funciona con decimales"
   ]
  },
  {
   "cell_type": "code",
   "execution_count": 38,
   "id": "3b14444c",
   "metadata": {},
   "outputs": [
    {
     "data": {
      "text/plain": [
       "1.0"
      ]
     },
     "execution_count": 38,
     "metadata": {},
     "output_type": "execute_result"
    }
   ],
   "source": [
    "math.fmod(5,2)"
   ]
  },
  {
   "cell_type": "code",
   "execution_count": 39,
   "id": "b257a3ba",
   "metadata": {},
   "outputs": [
    {
     "data": {
      "text/plain": [
       "1"
      ]
     },
     "execution_count": 39,
     "metadata": {},
     "output_type": "execute_result"
    }
   ],
   "source": [
    "5%2"
   ]
  },
  {
   "cell_type": "code",
   "execution_count": 43,
   "id": "68edd687",
   "metadata": {},
   "outputs": [
    {
     "data": {
      "text/plain": [
       "1.0"
      ]
     },
     "execution_count": 43,
     "metadata": {},
     "output_type": "execute_result"
    }
   ],
   "source": [
    "math.remainder(5,2)"
   ]
  },
  {
   "cell_type": "markdown",
   "id": "16a2600a",
   "metadata": {},
   "source": [
    "### Para obtener el cociente:"
   ]
  },
  {
   "cell_type": "code",
   "execution_count": 47,
   "id": "7a74374e",
   "metadata": {},
   "outputs": [
    {
     "data": {
      "text/plain": [
       "2"
      ]
     },
     "execution_count": 47,
     "metadata": {},
     "output_type": "execute_result"
    }
   ],
   "source": [
    "7//3"
   ]
  },
  {
   "cell_type": "markdown",
   "id": "710ee2d5",
   "metadata": {},
   "source": [
    "### Para separar parte entera de parte decimal:"
   ]
  },
  {
   "cell_type": "code",
   "execution_count": 45,
   "id": "ae27b193",
   "metadata": {},
   "outputs": [
    {
     "data": {
      "text/plain": [
       "(-0.25, -4.0)"
      ]
     },
     "execution_count": 45,
     "metadata": {},
     "output_type": "execute_result"
    }
   ],
   "source": [
    "math.modf(-4.25)"
   ]
  },
  {
   "cell_type": "markdown",
   "id": "3f1a543c",
   "metadata": {},
   "source": [
    "### Para obtener el máximo común divisor"
   ]
  },
  {
   "cell_type": "code",
   "execution_count": 48,
   "id": "0570730f",
   "metadata": {},
   "outputs": [
    {
     "data": {
      "text/plain": [
       "12"
      ]
     },
     "execution_count": 48,
     "metadata": {},
     "output_type": "execute_result"
    }
   ],
   "source": [
    "math.gcd(24, 36)"
   ]
  },
  {
   "cell_type": "markdown",
   "id": "537421da",
   "metadata": {},
   "source": [
    "### Para comprobar si los números son finitos o números"
   ]
  },
  {
   "cell_type": "code",
   "execution_count": 49,
   "id": "e5f77485",
   "metadata": {},
   "outputs": [
    {
     "data": {
      "text/plain": [
       "True"
      ]
     },
     "execution_count": 49,
     "metadata": {},
     "output_type": "execute_result"
    }
   ],
   "source": [
    "math.isfinite(2.5)"
   ]
  },
  {
   "cell_type": "code",
   "execution_count": 51,
   "id": "9114eed4",
   "metadata": {},
   "outputs": [
    {
     "data": {
      "text/plain": [
       "False"
      ]
     },
     "execution_count": 51,
     "metadata": {},
     "output_type": "execute_result"
    }
   ],
   "source": [
    "math.isinf(2.5)"
   ]
  },
  {
   "cell_type": "code",
   "execution_count": 52,
   "id": "a9008609",
   "metadata": {},
   "outputs": [
    {
     "data": {
      "text/plain": [
       "False"
      ]
     },
     "execution_count": 52,
     "metadata": {},
     "output_type": "execute_result"
    }
   ],
   "source": [
    "math.isnan(2.5)"
   ]
  },
  {
   "cell_type": "markdown",
   "id": "3ee3eb5f",
   "metadata": {},
   "source": [
    "### La función isclose nos permite comparar si dos números son iguales, en el segundo caso vemos que da falso pero porque hay un pequeño error de decimales en la raiz cuadrada"
   ]
  },
  {
   "cell_type": "code",
   "execution_count": 55,
   "id": "cbe3ecda",
   "metadata": {},
   "outputs": [
    {
     "data": {
      "text/plain": [
       "True"
      ]
     },
     "execution_count": 55,
     "metadata": {},
     "output_type": "execute_result"
    }
   ],
   "source": [
    "math.isclose(math.sqrt(2)**2, 2)"
   ]
  },
  {
   "cell_type": "code",
   "execution_count": 54,
   "id": "b126b3ca",
   "metadata": {},
   "outputs": [
    {
     "data": {
      "text/plain": [
       "False"
      ]
     },
     "execution_count": 54,
     "metadata": {},
     "output_type": "execute_result"
    }
   ],
   "source": [
    "math.sqrt(2)**2 == 2"
   ]
  },
  {
   "cell_type": "code",
   "execution_count": 58,
   "id": "f824b0bf",
   "metadata": {},
   "outputs": [
    {
     "data": {
      "text/plain": [
       "True"
      ]
     },
     "execution_count": 58,
     "metadata": {},
     "output_type": "execute_result"
    }
   ],
   "source": [
    "math.isclose(math.sqrt(2)**2, 2, rel_tol=1e-09)"
   ]
  },
  {
   "cell_type": "code",
   "execution_count": 59,
   "id": "e0abe888",
   "metadata": {},
   "outputs": [
    {
     "data": {
      "text/plain": [
       "2.0000000000000004"
      ]
     },
     "execution_count": 59,
     "metadata": {},
     "output_type": "execute_result"
    }
   ],
   "source": [
    "math.sqrt(2)**2"
   ]
  },
  {
   "cell_type": "markdown",
   "id": "d586e1d0",
   "metadata": {},
   "source": [
    "## Funciones Matemáticas"
   ]
  },
  {
   "cell_type": "markdown",
   "id": "b426a785",
   "metadata": {},
   "source": [
    "### La exponencial es la forma más precisa"
   ]
  },
  {
   "cell_type": "code",
   "execution_count": 70,
   "id": "6eccf2ef",
   "metadata": {},
   "outputs": [
    {
     "data": {
      "text/plain": [
       "20.085536923187668"
      ]
     },
     "execution_count": 70,
     "metadata": {},
     "output_type": "execute_result"
    }
   ],
   "source": [
    "math.exp(3)"
   ]
  },
  {
   "cell_type": "code",
   "execution_count": 71,
   "id": "399c367b",
   "metadata": {},
   "outputs": [
    {
     "data": {
      "text/plain": [
       "20.085536923187664"
      ]
     },
     "execution_count": 71,
     "metadata": {},
     "output_type": "execute_result"
    }
   ],
   "source": [
    "math.e**3"
   ]
  },
  {
   "cell_type": "code",
   "execution_count": 72,
   "id": "860e6c12",
   "metadata": {},
   "outputs": [
    {
     "data": {
      "text/plain": [
       "20.085536923187664"
      ]
     },
     "execution_count": 72,
     "metadata": {},
     "output_type": "execute_result"
    }
   ],
   "source": [
    "math.pow(math.e,3)"
   ]
  },
  {
   "cell_type": "markdown",
   "id": "6f431eef",
   "metadata": {},
   "source": [
    "### Expm1 es más precisa"
   ]
  },
  {
   "cell_type": "code",
   "execution_count": 73,
   "id": "24692d76",
   "metadata": {},
   "outputs": [
    {
     "data": {
      "text/plain": [
       "1.718281828459045"
      ]
     },
     "execution_count": 73,
     "metadata": {},
     "output_type": "execute_result"
    }
   ],
   "source": [
    "math.expm1(1)"
   ]
  },
  {
   "cell_type": "code",
   "execution_count": 74,
   "id": "04753a3c",
   "metadata": {},
   "outputs": [
    {
     "data": {
      "text/plain": [
       "1.718281828459045"
      ]
     },
     "execution_count": 74,
     "metadata": {},
     "output_type": "execute_result"
    }
   ],
   "source": [
    "math.exp(1) - 1"
   ]
  },
  {
   "cell_type": "code",
   "execution_count": 75,
   "id": "0ba86c92",
   "metadata": {},
   "outputs": [
    {
     "data": {
      "text/plain": [
       "1.0000050000069649e-05"
      ]
     },
     "execution_count": 75,
     "metadata": {},
     "output_type": "execute_result"
    }
   ],
   "source": [
    "math.exp(1e-05)-1"
   ]
  },
  {
   "cell_type": "code",
   "execution_count": 76,
   "id": "d6c7cd58",
   "metadata": {},
   "outputs": [
    {
     "data": {
      "text/plain": [
       "1.0000050000166667e-05"
      ]
     },
     "execution_count": 76,
     "metadata": {},
     "output_type": "execute_result"
    }
   ],
   "source": [
    "math.expm1(1e-05)"
   ]
  },
  {
   "cell_type": "code",
   "execution_count": 77,
   "id": "b5586751",
   "metadata": {},
   "outputs": [
    {
     "data": {
      "text/plain": [
       "2.4849066497880004"
      ]
     },
     "execution_count": 77,
     "metadata": {},
     "output_type": "execute_result"
    }
   ],
   "source": [
    "math.log(12)"
   ]
  },
  {
   "cell_type": "code",
   "execution_count": 80,
   "id": "3d77b8e4",
   "metadata": {},
   "outputs": [
    {
     "data": {
      "text/plain": [
       "3.5849625007211565"
      ]
     },
     "execution_count": 80,
     "metadata": {},
     "output_type": "execute_result"
    }
   ],
   "source": [
    "math.log(12, 2)"
   ]
  },
  {
   "cell_type": "code",
   "execution_count": 81,
   "id": "e90e8486",
   "metadata": {},
   "outputs": [
    {
     "data": {
      "text/plain": [
       "3.584962500721156"
      ]
     },
     "execution_count": 81,
     "metadata": {},
     "output_type": "execute_result"
    }
   ],
   "source": [
    "math.log2(12)"
   ]
  },
  {
   "cell_type": "code",
   "execution_count": 79,
   "id": "396cc91c",
   "metadata": {},
   "outputs": [
    {
     "data": {
      "text/plain": [
       "9.99995000033333e-06"
      ]
     },
     "execution_count": 79,
     "metadata": {},
     "output_type": "execute_result"
    }
   ],
   "source": [
    "math.log1p(1e-5)"
   ]
  },
  {
   "cell_type": "code",
   "execution_count": 82,
   "id": "7fae9d9d",
   "metadata": {},
   "outputs": [
    {
     "data": {
      "text/plain": [
       "0.0"
      ]
     },
     "execution_count": 82,
     "metadata": {},
     "output_type": "execute_result"
    }
   ],
   "source": [
    "math.log10(1)"
   ]
  },
  {
   "cell_type": "code",
   "execution_count": 83,
   "id": "b4bf8c4a",
   "metadata": {},
   "outputs": [
    {
     "data": {
      "text/plain": [
       "-0.8011526357338304"
      ]
     },
     "execution_count": 83,
     "metadata": {},
     "output_type": "execute_result"
    }
   ],
   "source": [
    "math.sin(180)"
   ]
  },
  {
   "cell_type": "code",
   "execution_count": 84,
   "id": "c447ffa2",
   "metadata": {},
   "outputs": [
    {
     "data": {
      "text/plain": [
       "-1.0"
      ]
     },
     "execution_count": 84,
     "metadata": {},
     "output_type": "execute_result"
    }
   ],
   "source": [
    "math.cos(math.pi)"
   ]
  },
  {
   "cell_type": "code",
   "execution_count": 85,
   "id": "0d4b8cc0",
   "metadata": {},
   "outputs": [
    {
     "data": {
      "text/plain": [
       "1.633123935319537e+16"
      ]
     },
     "execution_count": 85,
     "metadata": {},
     "output_type": "execute_result"
    }
   ],
   "source": [
    "math.tan(math.pi/2)"
   ]
  },
  {
   "cell_type": "code",
   "execution_count": 86,
   "id": "b3b4c6e2",
   "metadata": {},
   "outputs": [
    {
     "data": {
      "text/plain": [
       "1.5707963267948966"
      ]
     },
     "execution_count": 86,
     "metadata": {},
     "output_type": "execute_result"
    }
   ],
   "source": [
    "math.asin(1)"
   ]
  },
  {
   "cell_type": "code",
   "execution_count": 87,
   "id": "a80859c5",
   "metadata": {},
   "outputs": [
    {
     "data": {
      "text/plain": [
       "0.0"
      ]
     },
     "execution_count": 87,
     "metadata": {},
     "output_type": "execute_result"
    }
   ],
   "source": [
    "math.acos(1)"
   ]
  },
  {
   "cell_type": "code",
   "execution_count": 88,
   "id": "58e56c8c",
   "metadata": {},
   "outputs": [
    {
     "data": {
      "text/plain": [
       "0.7853981633974483"
      ]
     },
     "execution_count": 88,
     "metadata": {},
     "output_type": "execute_result"
    }
   ],
   "source": [
    "math.atan(1)"
   ]
  },
  {
   "cell_type": "code",
   "execution_count": 89,
   "id": "257f3112",
   "metadata": {},
   "outputs": [
    {
     "data": {
      "text/plain": [
       "45.0"
      ]
     },
     "execution_count": 89,
     "metadata": {},
     "output_type": "execute_result"
    }
   ],
   "source": [
    "math.degrees(0.7853981633974483)"
   ]
  },
  {
   "cell_type": "code",
   "execution_count": 90,
   "id": "c9c46932",
   "metadata": {},
   "outputs": [
    {
     "data": {
      "text/plain": [
       "1.0471975511965976"
      ]
     },
     "execution_count": 90,
     "metadata": {},
     "output_type": "execute_result"
    }
   ],
   "source": [
    "math.radians(60)"
   ]
  },
  {
   "cell_type": "code",
   "execution_count": 91,
   "id": "19de58cc",
   "metadata": {},
   "outputs": [
    {
     "data": {
      "text/plain": [
       "0.5000000000000001"
      ]
     },
     "execution_count": 91,
     "metadata": {},
     "output_type": "execute_result"
    }
   ],
   "source": [
    "math.cos(math.radians(60))"
   ]
  },
  {
   "cell_type": "markdown",
   "id": "4883ef98",
   "metadata": {},
   "source": [
    "### Comprobar el vector de 3 de ancho y 4 de alto el resultado es el largo"
   ]
  },
  {
   "cell_type": "code",
   "execution_count": 93,
   "id": "f45922ba",
   "metadata": {},
   "outputs": [
    {
     "data": {
      "text/plain": [
       "5.0"
      ]
     },
     "execution_count": 93,
     "metadata": {},
     "output_type": "execute_result"
    }
   ],
   "source": [
    "math.hypot(3, 4)"
   ]
  },
  {
   "cell_type": "code",
   "execution_count": 95,
   "id": "1783e7f7",
   "metadata": {},
   "outputs": [
    {
     "data": {
      "text/plain": [
       "5.0"
      ]
     },
     "execution_count": 95,
     "metadata": {},
     "output_type": "execute_result"
    }
   ],
   "source": [
    "math.sqrt(3**2+4**2)"
   ]
  },
  {
   "cell_type": "markdown",
   "id": "700af70f",
   "metadata": {},
   "source": [
    "### El ángulo de atan2 es entre -pi y pi, además el primer argumento es la 'y' y el segundo es la x"
   ]
  },
  {
   "cell_type": "code",
   "execution_count": 100,
   "id": "2fde8809",
   "metadata": {},
   "outputs": [
    {
     "data": {
      "text/plain": [
       "0.9272952180016122"
      ]
     },
     "execution_count": 100,
     "metadata": {},
     "output_type": "execute_result"
    }
   ],
   "source": [
    "math.atan2(4, 3)"
   ]
  },
  {
   "cell_type": "markdown",
   "id": "f97229e1",
   "metadata": {},
   "source": [
    "### Funciones hiperbólicas"
   ]
  },
  {
   "cell_type": "code",
   "execution_count": 101,
   "id": "7d76727b",
   "metadata": {},
   "outputs": [
    {
     "data": {
      "text/plain": [
       "0.0"
      ]
     },
     "execution_count": 101,
     "metadata": {},
     "output_type": "execute_result"
    }
   ],
   "source": [
    "math.sinh(0)"
   ]
  },
  {
   "cell_type": "code",
   "execution_count": 102,
   "id": "23681bb9",
   "metadata": {},
   "outputs": [
    {
     "data": {
      "text/plain": [
       "1.0"
      ]
     },
     "execution_count": 102,
     "metadata": {},
     "output_type": "execute_result"
    }
   ],
   "source": [
    "math.cosh(0)"
   ]
  },
  {
   "cell_type": "code",
   "execution_count": 103,
   "id": "814fceae",
   "metadata": {},
   "outputs": [
    {
     "data": {
      "text/plain": [
       "0.0"
      ]
     },
     "execution_count": 103,
     "metadata": {},
     "output_type": "execute_result"
    }
   ],
   "source": [
    "math.tanh(0)"
   ]
  },
  {
   "cell_type": "code",
   "execution_count": 107,
   "id": "d3a975e8",
   "metadata": {},
   "outputs": [
    {
     "data": {
      "text/plain": [
       "0.0"
      ]
     },
     "execution_count": 107,
     "metadata": {},
     "output_type": "execute_result"
    }
   ],
   "source": [
    "math.erf(0)"
   ]
  },
  {
   "cell_type": "markdown",
   "id": "bf559df1",
   "metadata": {},
   "source": [
    "### Erfc es la complementaria, erf + erfc = 1"
   ]
  },
  {
   "cell_type": "code",
   "execution_count": 108,
   "id": "5d169a83",
   "metadata": {},
   "outputs": [
    {
     "data": {
      "text/plain": [
       "0.9999911238536323"
      ]
     },
     "execution_count": 108,
     "metadata": {},
     "output_type": "execute_result"
    }
   ],
   "source": [
    "math.erf(math.pi)"
   ]
  },
  {
   "cell_type": "code",
   "execution_count": 112,
   "id": "c21bf51c",
   "metadata": {},
   "outputs": [
    {
     "data": {
      "text/plain": [
       "8.876146367641612e-06"
      ]
     },
     "execution_count": 112,
     "metadata": {},
     "output_type": "execute_result"
    }
   ],
   "source": [
    "math.erfc(math.pi)"
   ]
  },
  {
   "cell_type": "markdown",
   "id": "62a5ec1d",
   "metadata": {},
   "source": [
    "### El gamma es como el factorial pero del número anterior, lgamma es el logaritmo en base e"
   ]
  },
  {
   "cell_type": "code",
   "execution_count": null,
   "id": "cbbe372c",
   "metadata": {},
   "outputs": [],
   "source": [
    "math.gamma(5)"
   ]
  },
  {
   "cell_type": "code",
   "execution_count": 115,
   "id": "3bf0b454",
   "metadata": {},
   "outputs": [
    {
     "data": {
      "text/plain": [
       "3.178053830347945"
      ]
     },
     "execution_count": 115,
     "metadata": {},
     "output_type": "execute_result"
    }
   ],
   "source": [
    "math.lgamma(5)"
   ]
  },
  {
   "cell_type": "code",
   "execution_count": null,
   "id": "d29bd758",
   "metadata": {},
   "outputs": [],
   "source": []
  }
 ],
 "metadata": {
  "kernelspec": {
   "display_name": "Python 3 (ipykernel)",
   "language": "python",
   "name": "python3"
  },
  "language_info": {
   "codemirror_mode": {
    "name": "ipython",
    "version": 3
   },
   "file_extension": ".py",
   "mimetype": "text/x-python",
   "name": "python",
   "nbconvert_exporter": "python",
   "pygments_lexer": "ipython3",
   "version": "3.8.8"
  }
 },
 "nbformat": 4,
 "nbformat_minor": 5
}
