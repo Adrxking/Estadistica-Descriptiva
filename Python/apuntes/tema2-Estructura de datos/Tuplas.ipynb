{
 "cells": [
  {
   "cell_type": "markdown",
   "id": "0e07cde4",
   "metadata": {},
   "source": [
    "# Tuplas\n",
    "Es una colección de objetos que no puede modificarse (tamaño y contenido fijo)"
   ]
  },
  {
   "cell_type": "code",
   "execution_count": 3,
   "id": "4c05e67f",
   "metadata": {},
   "outputs": [],
   "source": [
    "# Una tupla se define con paréntesis.\n",
    "p = (1,2,3,4,'c')"
   ]
  },
  {
   "cell_type": "code",
   "execution_count": 5,
   "id": "19d61d23",
   "metadata": {},
   "outputs": [
    {
     "data": {
      "text/plain": [
       "[1, 2, 3, 4, 'c']"
      ]
     },
     "execution_count": 5,
     "metadata": {},
     "output_type": "execute_result"
    }
   ],
   "source": [
    "# Convertir tupla a array\n",
    "p = list(p)\n",
    "p"
   ]
  },
  {
   "cell_type": "code",
   "execution_count": 6,
   "id": "e3b488cb",
   "metadata": {},
   "outputs": [
    {
     "data": {
      "text/plain": [
       "(1, 2, 3, 4, 'c')"
      ]
     },
     "execution_count": 6,
     "metadata": {},
     "output_type": "execute_result"
    }
   ],
   "source": [
    "# Convertir array a tupla\n",
    "p = tuple(p)\n",
    "p"
   ]
  },
  {
   "cell_type": "code",
   "execution_count": 9,
   "id": "77e00965",
   "metadata": {},
   "outputs": [
    {
     "data": {
      "text/plain": [
       "('Hola', 'como', 'estás')"
      ]
     },
     "execution_count": 9,
     "metadata": {},
     "output_type": "execute_result"
    }
   ],
   "source": [
    "# Fraccionar un string pro palabras a una tupla o array\n",
    "array = \"Hola como estás\".split(\" \")\n",
    "tupla = tuple(array)\n",
    "tupla"
   ]
  },
  {
   "cell_type": "code",
   "execution_count": 11,
   "id": "8667da75",
   "metadata": {},
   "outputs": [
    {
     "name": "stdout",
     "output_type": "stream",
     "text": [
      "Escribe números separados por comas.1,5,65,5,1,2,3,5,4\n",
      "10.11\n"
     ]
    }
   ],
   "source": [
    "# Introducir números por teclado separados por \",\" y convertirlos a una tupla además de sacar la media\n",
    "numeros = input(\"Escribe números separados por comas.\")\n",
    "numerosL = numeros.split(\",\")\n",
    "numerosT = tuple(numerosL)\n",
    "\n",
    "suma = 0\n",
    "for n in numerosT:\n",
    "    suma += int(n)\n",
    "\n",
    "print(round(suma/len(numerosT),2))"
   ]
  },
  {
   "cell_type": "code",
   "execution_count": null,
   "id": "8cd6158f",
   "metadata": {},
   "outputs": [],
   "source": []
  }
 ],
 "metadata": {
  "kernelspec": {
   "display_name": "Python 3 (ipykernel)",
   "language": "python",
   "name": "python3"
  },
  "language_info": {
   "codemirror_mode": {
    "name": "ipython",
    "version": 3
   },
   "file_extension": ".py",
   "mimetype": "text/x-python",
   "name": "python",
   "nbconvert_exporter": "python",
   "pygments_lexer": "ipython3",
   "version": "3.8.8"
  }
 },
 "nbformat": 4,
 "nbformat_minor": 5
}
