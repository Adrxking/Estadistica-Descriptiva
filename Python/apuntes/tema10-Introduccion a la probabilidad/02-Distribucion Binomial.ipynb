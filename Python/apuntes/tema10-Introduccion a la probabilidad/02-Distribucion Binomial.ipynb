{
 "cells": [
  {
   "cell_type": "markdown",
   "id": "ccdbd114",
   "metadata": {},
   "source": [
    "## Ejemplo con una Distribucion de Bernoulli"
   ]
  },
  {
   "cell_type": "markdown",
   "id": "042a07ab",
   "metadata": {},
   "source": [
    "Sea probabilidad de exito = 0.4 y el numero de repeticiones = 7"
   ]
  },
  {
   "cell_type": "code",
   "execution_count": 8,
   "id": "dcefc439",
   "metadata": {},
   "outputs": [],
   "source": [
    "from scipy.stats import binom\n",
    "import matplotlib.pyplot as plt\n",
    "import numpy as np"
   ]
  },
  {
   "cell_type": "code",
   "execution_count": 9,
   "id": "b146df18",
   "metadata": {},
   "outputs": [
    {
     "data": {
      "image/png": "[encoded data removed]",
      "text/plain": [
       "<Figure size 432x288 with 1 Axes>"
      ]
     },
     "metadata": {
      "needs_background": "light"
     },
     "output_type": "display_data"
    }
   ],
   "source": [
    "fig, ax = plt.subplots(1,1)\n",
    "n = 7\n",
    "p = 0.4\n",
    "\n",
    "mean, var, skew, kurt = binom.stats(n, p, moments = 'mvsk')\n",
    "\n",
    "# Desde el cuantil 0.01 hasta el 0.9999\n",
    "x = np.arange(binom.ppf(0.01, n, p), binom.ppf(0.9999,n,p))\n",
    "\n",
    "# Si conocemos el rango podemos hacerlo de la siguiente forma\n",
    "x = np.arange(0, n+1)\n",
    "\n",
    "ax.plot(x, binom.pmf(x, n, p), 'bo', ms = 8, label = \"Funcion de densidad de B(7,0.4)\")\n",
    "ax.vlines(x, 0, binom.pmf(x,n,p), colors = 'b', lw = 4, alpha = 0.5)\n",
    "\n",
    "plt.show()"
   ]
  },
  {
   "cell_type": "code",
   "execution_count": null,
   "id": "7d6bdb85",
   "metadata": {},
   "outputs": [],
   "source": []
  }
 ],
 "metadata": {
  "kernelspec": {
   "display_name": "Python 3 (ipykernel)",
   "language": "python",
   "name": "python3"
  },
  "language_info": {
   "codemirror_mode": {
    "name": "ipython",
    "version": 3
   },
   "file_extension": ".py",
   "mimetype": "text/x-python",
   "name": "python",
   "nbconvert_exporter": "python",
   "pygments_lexer": "ipython3",
   "version": "3.8.8"
  }
 },
 "nbformat": 4,
 "nbformat_minor": 5
}
