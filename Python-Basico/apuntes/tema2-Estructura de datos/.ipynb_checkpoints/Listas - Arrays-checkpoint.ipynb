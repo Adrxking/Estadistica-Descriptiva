{
 "cells": [
  {
   "cell_type": "markdown",
   "id": "ed52ba76",
   "metadata": {},
   "source": [
    "# Listas\n",
    "Son contenedores que permiten almacenar una colección de objetos en un orden determinado. Se pueden acceder, añadir o eliminar objetos de forma sencilla."
   ]
  },
  {
   "cell_type": "code",
   "execution_count": 1,
   "id": "bc4e6dfe",
   "metadata": {},
   "outputs": [],
   "source": [
    "# Lista vacía\n",
    "L1 = [] "
   ]
  },
  {
   "cell_type": "code",
   "execution_count": 2,
   "id": "1ea54451",
   "metadata": {},
   "outputs": [],
   "source": [
    "# Lista con valores iniciales strings\n",
    "L2 = ['a', 'e', 'i', 'o', 'u']"
   ]
  },
  {
   "cell_type": "code",
   "execution_count": 3,
   "id": "67a7fad5",
   "metadata": {},
   "outputs": [],
   "source": [
    "# Lista con valores enteros\n",
    "L3 = [2,3,5,7,11]"
   ]
  },
  {
   "cell_type": "code",
   "execution_count": 4,
   "id": "84034b9a",
   "metadata": {},
   "outputs": [],
   "source": [
    "#Lista Heterogénea\n",
    "L4 = ['a', 5, True, \"Adrian\"]"
   ]
  },
  {
   "cell_type": "code",
   "execution_count": 5,
   "id": "1f49983d",
   "metadata": {},
   "outputs": [],
   "source": [
    "# Lista con 10 ceros\n",
    "L5 = [0]*10"
   ]
  },
  {
   "cell_type": "code",
   "execution_count": 6,
   "id": "1412a780",
   "metadata": {},
   "outputs": [],
   "source": [
    "# Las listas en Python empiezan en la posición número 0\n",
    "L4[0]"
   ]
  },
  {
   "cell_type": "code",
   "execution_count": 7,
   "id": "09a28f60",
   "metadata": {},
   "outputs": [],
   "source": [
    "# Modificación de valores\n",
    "L5[4] = 3.1415"
   ]
  },
  {
   "cell_type": "code",
   "execution_count": 8,
   "id": "add54bc1",
   "metadata": {},
   "outputs": [],
   "source": [
    "# Accesos de posiciones múltiples (incluye la primera, exckuye la última)\n",
    "L4[0:2]"
   ]
  },
  {
   "cell_type": "code",
   "execution_count": 9,
   "id": "b1bfe2b5",
   "metadata": {},
   "outputs": [],
   "source": [
    "# Modificación de posiciones múltiples (incluye la primera, exckuye la última)\n",
    "L5[1:4] = [1,2,3]"
   ]
  },
  {
   "cell_type": "code",
   "execution_count": 10,
   "id": "758674cb",
   "metadata": {},
   "outputs": [],
   "source": [
    "# Añadir al final un valor\n",
    "L5.append(8)"
   ]
  },
  {
   "cell_type": "code",
   "execution_count": 11,
   "id": "496d1cce",
   "metadata": {},
   "outputs": [],
   "source": [
    "# Elimina la primera ocurrencia del objeto\n",
    "L5.remove(3)"
   ]
  },
  {
   "cell_type": "code",
   "execution_count": 12,
   "id": "0801e9a3",
   "metadata": {},
   "outputs": [],
   "source": [
    "# Invertir la lista\n",
    "L5.reverse()"
   ]
  },
  {
   "cell_type": "code",
   "execution_count": 13,
   "id": "1fc90621",
   "metadata": {},
   "outputs": [],
   "source": [
    "# Contar las ocurrencias del objeto\n",
    "L5.count(0)"
   ]
  },
  {
   "cell_type": "code",
   "execution_count": 14,
   "id": "a155f277",
   "metadata": {},
   "outputs": [],
   "source": [
    "# Conocer la posición de la primera ocurrencia del objeto\n",
    "L5.index(2)"
   ]
  },
  {
   "cell_type": "code",
   "execution_count": 15,
   "id": "cafa5c3d",
   "metadata": {},
   "outputs": [],
   "source": [
    "# Obtener la longitud de la lista\n",
    "len(L5)"
   ]
  },
  {
   "cell_type": "code",
   "execution_count": 16,
   "id": "39bd22a8",
   "metadata": {},
   "outputs": [],
   "source": [
    "# Desde la posición 1 de 2 en 2\n",
    "L = [1,2,3,4,5,6]\n",
    "L[1::2]"
   ]
  },
  {
   "cell_type": "code",
   "execution_count": 17,
   "id": "e3a065cc",
   "metadata": {},
   "outputs": [],
   "source": [
    "# Conocer si existe un valor en la lista\n",
    "8 in L"
   ]
  },
  {
   "cell_type": "code",
   "execution_count": null,
   "id": "1c11b32f",
   "metadata": {},
   "outputs": [],
   "source": []
  },
  {
   "cell_type": "markdown",
   "id": "d3480ed2",
   "metadata": {},
   "source": [
    "# Bucles\n",
    "Los bucles **for** iteran sobre una colección (Una lista, un string o un objeto iterable)"
   ]
  },
  {
   "cell_type": "code",
   "execution_count": 18,
   "id": "84762576",
   "metadata": {},
   "outputs": [],
   "source": [
    "for numero in L:\n",
    "    print(numero)"
   ]
  },
  {
   "cell_type": "code",
   "execution_count": 19,
   "id": "45ea310b",
   "metadata": {},
   "outputs": [],
   "source": [
    "for x in range(0,5): # Range(0,5) = Range(5)\n",
    "    print(x)"
   ]
  },
  {
   "cell_type": "code",
   "execution_count": 20,
   "id": "29ca5c33",
   "metadata": {},
   "outputs": [],
   "source": [
    "for l in \"Adrian\":\n",
    "    print(l)"
   ]
  },
  {
   "cell_type": "code",
   "execution_count": 21,
   "id": "21af42bd",
   "metadata": {},
   "outputs": [],
   "source": [
    "# Obtener la media de unas notas\n",
    "notas = [3.5, 6.7, 8, 9, 4.5]\n",
    "suma = 0\n",
    "for nota in notas:\n",
    "    suma = suma + nota\n",
    "print(suma/len(notas))"
   ]
  },
  {
   "cell_type": "markdown",
   "id": "ece43018",
   "metadata": {},
   "source": [
    "El bucle **while** se repite hasta que la condición booleana deja de ser cierta"
   ]
  },
  {
   "cell_type": "code",
   "execution_count": 24,
   "id": "0db2129f",
   "metadata": {},
   "outputs": [
    {
     "name": "stdout",
     "output_type": "stream",
     "text": [
      "0\n",
      "1\n",
      "2\n",
      "3\n",
      "4\n",
      "5\n",
      "6\n",
      "7\n",
      "8\n",
      "9\n"
     ]
    }
   ],
   "source": [
    "count = 0\n",
    "while count < 10:\n",
    "    print(count)\n",
    "    count += 1"
   ]
  },
  {
   "cell_type": "code",
   "execution_count": 26,
   "id": "10dc4f1c",
   "metadata": {},
   "outputs": [
    {
     "name": "stdout",
     "output_type": "stream",
     "text": [
      "0 2\n",
      "1 3\n",
      "2 5\n",
      "3 7\n",
      "4 11\n",
      "5 13\n",
      "6 17\n",
      "7 19\n",
      "8 23\n",
      "9 29\n"
     ]
    }
   ],
   "source": [
    "# Obtener los primos con su índice\n",
    "primos = [2,3,5,7,11,13,17,19,23,29]\n",
    "for idx,p in enumerate(primos):\n",
    "    print(idx, p)"
   ]
  },
  {
   "cell_type": "code",
   "execution_count": 27,
   "id": "917d5f2c",
   "metadata": {
    "scrolled": true
   },
   "outputs": [
    {
     "name": "stdout",
     "output_type": "stream",
     "text": [
      "0\n",
      "1\n",
      "2\n",
      "3\n",
      "4\n",
      "5\n",
      "6\n",
      "7\n",
      "8\n",
      "9\n"
     ]
    }
   ],
   "source": [
    "# Obtener solo el índice de los números primos\n",
    "for idx in range(len(primos)):\n",
    "    print(idx)"
   ]
  },
  {
   "cell_type": "markdown",
   "id": "28468aa8",
   "metadata": {},
   "source": [
    "# Criba de Eratóstenes\n",
    "Permite hallar todos los **números primos** menores que un número natural dado. Se forma una tabla con todos los números y se van tachando los números múltiplos de los números que vamos encontrando.\n",
    "\n",
    "El teorema de Wilson dice que Un número n es **primo** si y solo si **(n-1)! + 1** es **múltiplo de n**. Esto nos ayudará a encontrar los números primos."
   ]
  },
  {
   "cell_type": "code",
   "execution_count": 65,
   "id": "4b1400a5",
   "metadata": {
    "scrolled": false
   },
   "outputs": [
    {
     "name": "stdout",
     "output_type": "stream",
     "text": [
      "What number do you want to check prime numbers to? 172\n",
      "[2, 3, 5, 7, 11, 13, 17, 19]\n"
     ]
    }
   ],
   "source": [
    "# Criba de Eratóstenes\n",
    "\n",
    "## ESTE SCRIPT SOLO ES CAPAZ DE CALCULAR LOS PRIMOS HASTA 172 YA QUE DESPUÉS DEL 172 PARA OBTENER EL FACTORIAL DEL MISMO\n",
    "## SUPERA EL RANGO DE DÍGITOS (110,000)\n",
    "\n",
    "## Importar paquetes necesarios\n",
    "import math # Para obtener el módulo\n",
    "\n",
    "## El usuario introduce hasta qué número quiere comprobar los primos\n",
    "max_number = int(input(\"What number do you want to check prime numbers to? \"))\n",
    "\n",
    "## Crear un Array con todos esos números\n",
    "max_number_array = list(range(2,max_number + 1))\n",
    "\n",
    "## Declarar array con los números primos\n",
    "primos = []\n",
    "\n",
    "## Crear un bucle para comprobar todos los números de la lista\n",
    "for p in max_number_array:\n",
    "    ## Calcular si (p-1)! + 1 es múltiplo de p\n",
    "    if math.fmod(math.gamma(p) + 1,p) == 0:\n",
    "        ## Añadir el número primo obtenido a la lista de primos\n",
    "        primos.append(p)\n",
    "        ## Bucle para comprobar los números múltiplos de los números primos para eliminarlos\n",
    "        for comprobar_multiplos in max_number_array:\n",
    "            ## Comprobar si algún número de max_number_array / número primo tiene resto 0\n",
    "            if math.fmod(comprobar_multiplos, p) == 0 and comprobar_multiplos != p:\n",
    "                ## Eliminar de max_number_array todos los múltimos del primo obtenido\n",
    "                max_number_array.remove(comprobar_multiplos)\n",
    "        \n",
    "\n",
    "print(primos)"
   ]
  },
  {
   "cell_type": "markdown",
   "id": "f50a6349",
   "metadata": {},
   "source": [
    "# Bucles\n",
    "Los bucles **for** iteran sobre una colección (Una lista, un string o un objeto iterable)"
   ]
  },
  {
   "cell_type": "code",
   "execution_count": 18,
   "id": "074adc0d",
   "metadata": {},
   "outputs": [],
   "source": [
    "for numero in L:\n",
    "    print(numero)"
   ]
  },
  {
   "cell_type": "code",
   "execution_count": 19,
   "id": "ec36dfb2",
   "metadata": {},
   "outputs": [],
   "source": [
    "for x in range(0,5): # Range(0,5) = Range(5)\n",
    "    print(x)"
   ]
  },
  {
   "cell_type": "code",
   "execution_count": 20,
   "id": "717070d2",
   "metadata": {},
   "outputs": [],
   "source": [
    "for l in \"Adrian\":\n",
    "    print(l)"
   ]
  },
  {
   "cell_type": "code",
   "execution_count": 21,
   "id": "31bc45ce",
   "metadata": {},
   "outputs": [],
   "source": [
    "# Obtener la media de unas notas\n",
    "notas = [3.5, 6.7, 8, 9, 4.5]\n",
    "suma = 0\n",
    "for nota in notas:\n",
    "    suma = suma + nota\n",
    "print(suma/len(notas))"
   ]
  },
  {
   "cell_type": "markdown",
   "id": "f0995f38",
   "metadata": {},
   "source": [
    "El bucle **while** se repite hasta que la condición booleana deja de ser cierta"
   ]
  },
  {
   "cell_type": "code",
   "execution_count": 24,
   "id": "9d3cb393",
   "metadata": {},
   "outputs": [
    {
     "name": "stdout",
     "output_type": "stream",
     "text": [
      "0\n",
      "1\n",
      "2\n",
      "3\n",
      "4\n",
      "5\n",
      "6\n",
      "7\n",
      "8\n",
      "9\n"
     ]
    }
   ],
   "source": [
    "count = 0\n",
    "while count < 10:\n",
    "    print(count)\n",
    "    count += 1"
   ]
  },
  {
   "cell_type": "code",
   "execution_count": 26,
   "id": "4d0e864a",
   "metadata": {},
   "outputs": [
    {
     "name": "stdout",
     "output_type": "stream",
     "text": [
      "0 2\n",
      "1 3\n",
      "2 5\n",
      "3 7\n",
      "4 11\n",
      "5 13\n",
      "6 17\n",
      "7 19\n",
      "8 23\n",
      "9 29\n"
     ]
    }
   ],
   "source": [
    "# Obtener los primos con su índice\n",
    "primos = [2,3,5,7,11,13,17,19,23,29]\n",
    "for idx,p in enumerate(primos):\n",
    "    print(idx, p)"
   ]
  },
  {
   "cell_type": "code",
   "execution_count": 27,
   "id": "89ed885f",
   "metadata": {
    "scrolled": true
   },
   "outputs": [
    {
     "name": "stdout",
     "output_type": "stream",
     "text": [
      "0\n",
      "1\n",
      "2\n",
      "3\n",
      "4\n",
      "5\n",
      "6\n",
      "7\n",
      "8\n",
      "9\n"
     ]
    }
   ],
   "source": [
    "# Obtener solo el índice de los números primos\n",
    "for idx in range(len(primos)):\n",
    "    print(idx)"
   ]
  },
  {
   "cell_type": "markdown",
   "id": "e0c96526",
   "metadata": {},
   "source": [
    "# Criba de Eratóstenes\n",
    "Permite hallar todos los **números primos** menores que un número natural dado. Se forma una tabla con todos los números y se van tachando los números múltiplos de los números que vamos encontrando.\n",
    "\n",
    "El teorema de Wilson dice que Un número n es **primo** si y solo si **(n-1)! + 1** es **múltiplo de n**. Esto nos ayudará a encontrar los números primos."
   ]
  },
  {
   "cell_type": "code",
   "execution_count": 65,
   "id": "49502e99",
   "metadata": {
    "scrolled": false
   },
   "outputs": [
    {
     "name": "stdout",
     "output_type": "stream",
     "text": [
      "What number do you want to check prime numbers to? 172\n",
      "[2, 3, 5, 7, 11, 13, 17, 19]\n"
     ]
    }
   ],
   "source": [
    "# Criba de Eratóstenes\n",
    "\n",
    "## ESTE SCRIPT SOLO ES CAPAZ DE CALCULAR LOS PRIMOS HASTA 172 YA QUE DESPUÉS DEL 172 PARA OBTENER EL FACTORIAL DEL MISMO\n",
    "## SUPERA EL RANGO DE DÍGITOS (110,000)\n",
    "\n",
    "## Importar paquetes necesarios\n",
    "import math # Para obtener el módulo\n",
    "\n",
    "## El usuario introduce hasta qué número quiere comprobar los primos\n",
    "max_number = int(input(\"What number do you want to check prime numbers to? \"))\n",
    "\n",
    "## Crear un Array con todos esos números\n",
    "max_number_array = list(range(2,max_number + 1))\n",
    "\n",
    "## Declarar array con los números primos\n",
    "primos = []\n",
    "\n",
    "## Crear un bucle para comprobar todos los números de la lista\n",
    "for p in max_number_array:\n",
    "    ## Calcular si (p-1)! + 1 es múltiplo de p\n",
    "    if math.fmod(math.gamma(p) + 1,p) == 0:\n",
    "        ## Añadir el número primo obtenido a la lista de primos\n",
    "        primos.append(p)\n",
    "        ## Bucle para comprobar los números múltiplos de los números primos para eliminarlos\n",
    "        for comprobar_multiplos in max_number_array:\n",
    "            ## Comprobar si algún número de max_number_array / número primo tiene resto 0\n",
    "            if math.fmod(comprobar_multiplos, p) == 0 and comprobar_multiplos != p:\n",
    "                ## Eliminar de max_number_array todos los múltimos del primo obtenido\n",
    "                max_number_array.remove(comprobar_multiplos)\n",
    "        \n",
    "\n",
    "print(primos)"
   ]
  }
 ],
 "metadata": {
  "kernelspec": {
   "display_name": "Python 3 (ipykernel)",
   "language": "python",
   "name": "python3"
  },
  "language_info": {
   "codemirror_mode": {
    "name": "ipython",
    "version": 3
   },
   "file_extension": ".py",
   "mimetype": "text/x-python",
   "name": "python",
   "nbconvert_exporter": "python",
   "pygments_lexer": "ipython3",
   "version": "3.8.8"
  }
 },
 "nbformat": 4,
 "nbformat_minor": 5
}
