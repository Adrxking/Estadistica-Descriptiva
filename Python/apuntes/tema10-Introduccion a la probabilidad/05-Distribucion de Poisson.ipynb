{
 "cells": [
  {
   "cell_type": "markdown",
   "id": "bf52a037",
   "metadata": {},
   "source": [
    "## Distribucion de Poisson "
   ]
  },
  {
   "cell_type": "code",
   "execution_count": 3,
   "id": "d3e6eff7",
   "metadata": {},
   "outputs": [],
   "source": [
    "import numpy as np\n",
    "from scipy.stats import poisson\n",
    "import matplotlib.pyplot as plt"
   ]
  },
  {
   "cell_type": "code",
   "execution_count": 5,
   "id": "638a3829",
   "metadata": {},
   "outputs": [
    {
     "name": "stdout",
     "output_type": "stream",
     "text": [
      "Media 5.000000\n",
      "Varianza 5.000000\n",
      "Sesgo 0.447214\n",
      "Curtosis 0.200000\n"
     ]
    },
    {
     "data": {
      "image/png": "[encoded data removed]",
      "text/plain": [
       "<Figure size 432x288 with 1 Axes>"
      ]
     },
     "metadata": {
      "needs_background": "light"
     },
     "output_type": "display_data"
    }
   ],
   "source": [
    "fig, ax = plt.subplots(1,1)\n",
    "mu = 5\n",
    "mean, var, skew, kurt = poisson.stats(mu, moments = 'mvsk')\n",
    "print(\"Media %f\"%mean)\n",
    "print(\"Varianza %f\"%var)\n",
    "print(\"Sesgo %f\"%skew)\n",
    "print(\"Curtosis %f\"%kurt)\n",
    "x = np.arange(0, 12)\n",
    "ax.plot(x, poisson.pmf(x, mu), 'bo', ms = 8, label = 'Poisson(5)')\n",
    "ax.vlines(x,0, poisson.pmf(x,mu), colors = 'b', lw = 4, alpha = 0.5)\n",
    "ax.legend(loc = \"best\", frameon = False)\n",
    "plt.show()"
   ]
  },
  {
   "cell_type": "code",
   "execution_count": null,
   "id": "8542ced3",
   "metadata": {},
   "outputs": [],
   "source": []
  }
 ],
 "metadata": {
  "kernelspec": {
   "display_name": "Python 3",
   "language": "python",
   "name": "python3"
  },
  "language_info": {
   "codemirror_mode": {
    "name": "ipython",
    "version": 3
   },
   "file_extension": ".py",
   "mimetype": "text/x-python",
   "name": "python",
   "nbconvert_exporter": "python",
   "pygments_lexer": "ipython3",
   "version": "3.8.8"
  }
 },
 "nbformat": 4,
 "nbformat_minor": 5
}
