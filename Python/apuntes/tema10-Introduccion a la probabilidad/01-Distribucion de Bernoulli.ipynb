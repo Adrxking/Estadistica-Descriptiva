{
 "cells": [
  {
   "cell_type": "markdown",
   "id": "fb4eaf93",
   "metadata": {},
   "source": [
    "## Ejemplo con una Distribucion de Bernoulli"
   ]
  },
  {
   "cell_type": "code",
   "execution_count": 1,
   "id": "6ed7408a",
   "metadata": {},
   "outputs": [],
   "source": [
    "from scipy.stats import bernoulli\n",
    "import matplotlib.pyplot as plt"
   ]
  },
  {
   "cell_type": "markdown",
   "id": "afbaa7b6",
   "metadata": {},
   "source": [
    "Sea probabilidad de exito = 0.7 la probabilidad de obtener una cara usando una moneda trucada."
   ]
  },
  {
   "cell_type": "code",
   "execution_count": 4,
   "id": "45eabed4",
   "metadata": {},
   "outputs": [
    {
     "name": "stdout",
     "output_type": "stream",
     "text": [
      "Media 0.700000\n",
      "Varianza 0.210000\n",
      "Sesgo -0.872872\n",
      "Curtosis -1.238095\n"
     ]
    }
   ],
   "source": [
    "p = 0.7\n",
    "mean, var, skew, kurt = bernoulli.stats(p, moments = 'mvsk')\n",
    "print(\"Media %f\"%mean)\n",
    "print(\"Varianza %f\"%var)\n",
    "print(\"Sesgo %f\"%skew)\n",
    "print(\"Curtosis %f\"%kurt)"
   ]
  },
  {
   "cell_type": "code",
   "execution_count": 6,
   "id": "aaf6332c",
   "metadata": {},
   "outputs": [
    {
     "data": {
      "image/png": "[encoded data removed]",
      "text/plain": [
       "<Figure size 432x288 with 1 Axes>"
      ]
     },
     "metadata": {
      "needs_background": "light"
     },
     "output_type": "display_data"
    }
   ],
   "source": [
    "fix, ax = plt.subplots(1,1)\n",
    "x = bernoulli.rvs(p, size = 1000)\n",
    "ax.hist(x)\n",
    "plt.show()"
   ]
  },
  {
   "cell_type": "code",
   "execution_count": null,
   "id": "7e49c6aa",
   "metadata": {},
   "outputs": [],
   "source": []
  }
 ],
 "metadata": {
  "kernelspec": {
   "display_name": "Python 3 (ipykernel)",
   "language": "python",
   "name": "python3"
  },
  "language_info": {
   "codemirror_mode": {
    "name": "ipython",
    "version": 3
   },
   "file_extension": ".py",
   "mimetype": "text/x-python",
   "name": "python",
   "nbconvert_exporter": "python",
   "pygments_lexer": "ipython3",
   "version": "3.8.8"
  }
 },
 "nbformat": 4,
 "nbformat_minor": 5
}
