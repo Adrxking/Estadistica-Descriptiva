{
 "cells": [
  {
   "cell_type": "markdown",
   "id": "e6dc399d",
   "metadata": {},
   "source": [
    "# Ejercicios Tema 1"
   ]
  },
  {
   "cell_type": "code",
   "execution_count": 28,
   "id": "2bdb679c",
   "metadata": {},
   "outputs": [],
   "source": [
    "import math"
   ]
  },
  {
   "cell_type": "markdown",
   "id": "e32e5ee3",
   "metadata": {},
   "source": [
    "### 1. Escribe una secuencia de instrucciones que permitan leer un número real por pantalla y que muestre si el número es positivo o no."
   ]
  },
  {
   "cell_type": "code",
   "execution_count": 6,
   "id": "1bb5c773",
   "metadata": {},
   "outputs": [
    {
     "name": "stdout",
     "output_type": "stream",
     "text": [
      "Introduce un número: 0\n",
      "El número 0 es positivo\n"
     ]
    }
   ],
   "source": [
    "num = input(\"Introduce un número: \")\n",
    "if int(num) >= 0:\n",
    "    print(\"El número \" + str(num) + \" es positivo\")\n",
    "else:\n",
    "    print(\"El número \" + str(num) + \" es negativo\")"
   ]
  },
  {
   "cell_type": "markdown",
   "id": "e6aacfc3",
   "metadata": {},
   "source": [
    "###  2. Escribe una secuencia de instrucciones que permitan leer un número real por pantalla y que muestre si el número está en el rango entre -5 y 5, ambos incluidos."
   ]
  },
  {
   "cell_type": "code",
   "execution_count": 16,
   "id": "87b8d73d",
   "metadata": {},
   "outputs": [
    {
     "name": "stdout",
     "output_type": "stream",
     "text": [
      "Introduce un número: -5\n",
      "El número -5 está dentro del rango [-5, 5]\n"
     ]
    }
   ],
   "source": [
    "num = int(input(\"Introduce un número: \"))\n",
    "if num >= -5 and num <= 5:\n",
    "    print(\"El número \" + str(num) + \" está dentro del rango [-5, 5]\")\n",
    "else:\n",
    "    print(\"El número \" + str(num) + \" no está dentro del rango [-5, 5]\")"
   ]
  },
  {
   "cell_type": "markdown",
   "id": "91bfb723",
   "metadata": {},
   "source": [
    "###  3. Escribe una secuencia de instrucciones que permitan leer las coordenadas de un punto (x, y) e indique en cuál de los cuatro cuadrantes se encuentra dicho punto.\n",
    "\n",
    "### Si x = 0, deberás indicar que el punto se encuentra sobre el eje vertical.\n",
    "\n",
    "### Si y = 0, deberás indicar que el punto se encuentra sobre el eje horizontal.\n",
    "\n",
    "### Si tanto x = 0 como y = 0, entonces deberás indicar que el punto se trata del origen de coordenadas."
   ]
  },
  {
   "cell_type": "code",
   "execution_count": 21,
   "id": "aafc475f",
   "metadata": {},
   "outputs": [
    {
     "name": "stdout",
     "output_type": "stream",
     "text": [
      "Introduce la coordenada x: 0\n",
      "Introduce la coordenada y: 5\n",
      "El punto se encuentra sobre el eje vertical en la parte superior\n"
     ]
    }
   ],
   "source": [
    "x = int(input(\"Introduce la coordenada x: \"))\n",
    "y = int(input(\"Introduce la coordenada y: \"))\n",
    "\n",
    "if x == 0 and y == 0:\n",
    "    print(\"El punto se encuentra en el origen de coordenadas\")\n",
    "elif x == 0 and y > 0:\n",
    "    print(\"El punto se encuentra sobre el eje vertical en la parte superior\")\n",
    "elif x == 0 and y < 0:\n",
    "    print(\"El punto se encuentra sobre el eje vertical en la parte inferior\")\n",
    "elif x > 0 and y == 0:\n",
    "    print(\"El punto se encuentra sobre el eje horizontal en la parte derecha\")\n",
    "elif x < 0 and y == 0:\n",
    "    print(\"El punto se encuentra sobre el eje horizontal en la parte izquierda\")\n",
    "elif x > 0 and y > 0:\n",
    "    print(\"El punto se encuentra sobre el primer cuadrante\")\n",
    "elif x < 0 and y > 0:\n",
    "    print(\"El punto se encuentra sobre el segundo cuadrante\")\n",
    "elif x < 0 and y < 0:\n",
    "    print(\"El punto se encuentra sobre el tercer cuadrante\")\n",
    "elif x > 0 and y < 0:\n",
    "    print(\"El punto se encuentra sobre el cuarto cuadrante\")"
   ]
  },
  {
   "cell_type": "markdown",
   "id": "07c8da3c",
   "metadata": {},
   "source": [
    "###  4. Escribe una secuencia de instrucciones que permitan leer dos números enteros y muestre el cociente de la división entera y el resto de la división entera."
   ]
  },
  {
   "cell_type": "code",
   "execution_count": 26,
   "id": "cff49296",
   "metadata": {},
   "outputs": [
    {
     "name": "stdout",
     "output_type": "stream",
     "text": [
      "Introduce el dividendo: 5\n",
      "Introduce el divisor: 3\n",
      "El cociente de la división entera entre 5/3 es 1\n",
      "El resto de la división entera entre 5/3 es 2\n"
     ]
    }
   ],
   "source": [
    "dividendo = int(input(\"Introduce el dividendo: \"))\n",
    "divisor = int(input(\"Introduce el divisor: \"))\n",
    "\n",
    "print(\"El cociente de la división entera entre \" + str(dividendo) + \"/\" + str(divisor) + \" es \" + str(dividendo//divisor))\n",
    "print(\"El resto de la división entera entre \" + str(dividendo) + \"/\" + str(divisor) + \" es \" + str(dividendo%divisor))"
   ]
  },
  {
   "cell_type": "markdown",
   "id": "f558a08b",
   "metadata": {},
   "source": [
    "###  5. Escribe una secuencia de instrucciones que permitan leer un número entero y determinar si es cuadrado perfecto o no (piensa la mejor forma de hacerlo con lo que has aprendido hasta ahora)."
   ]
  },
  {
   "cell_type": "markdown",
   "id": "90e13845",
   "metadata": {},
   "source": [
    "#### Para obtener si un número es un cuadrado perfecto debemos sacar su raiz cuadrada, quedarnos con su parte entera y esa parte entera elevarla a dos, si es igual al número original significa que es un cuadrado perfecto ya que los cuadrados perfectos se definen como un número entero que es el cuadrado de algún otro; dicho de otro modo, es un número cuya raíz cuadrada es un número natural."
   ]
  },
  {
   "cell_type": "code",
   "execution_count": 37,
   "id": "ad53413d",
   "metadata": {},
   "outputs": [
    {
     "name": "stdout",
     "output_type": "stream",
     "text": [
      "Introduce un número: 9\n",
      "9 es un cuadrado perfecto\n"
     ]
    }
   ],
   "source": [
    "num = int(input(\"Introduce un número: \"))\n",
    "\n",
    "raiz_entera = int(math.sqrt(num))\n",
    "\n",
    "cuadrado = raiz_entera**2\n",
    "\n",
    "if num == cuadrado:\n",
    "    print(str(num) + \" es un cuadrado perfecto\")\n",
    "else:\n",
    "    print(str(num) + \" no es un cuadrado perfecto\")"
   ]
  },
  {
   "cell_type": "markdown",
   "id": "43a04396",
   "metadata": {},
   "source": [
    "###  6. Escribe una expresión que permita determinar si un número entero positivo puede corresponder a un año bisiesto o no. Se consideran años bisiestos aquellos cuyo número es divisible por cuatro excepto los años que son múltiplos de 100, a no ser que lo sean de 400 (por ejemplo el año 2000 fue bisiesto pero el 2100 no lo será)."
   ]
  },
  {
   "cell_type": "code",
   "execution_count": 43,
   "id": "63e95378",
   "metadata": {},
   "outputs": [
    {
     "name": "stdout",
     "output_type": "stream",
     "text": [
      "Introduce un año: 400\n",
      "El año 400 es bisiesto\n"
     ]
    }
   ],
   "source": [
    "year = int(input(\"Introduce un año: \"))\n",
    "\n",
    "if year <0:\n",
    "    print(\"Debes introducir un número positivo\")\n",
    "\n",
    "if year%4 == 0:\n",
    "    if year%100 == 0:\n",
    "        if year%400 == 0:\n",
    "            print(\"El año \" + str(year) + \" es bisiesto\")\n",
    "        else:\n",
    "            print(\"El año \" + str(year) + \" no es bisiesto\")\n",
    "    else:\n",
    "        print(\"El año \" + str(year) + \" no es bisiesto\")\n",
    "else:\n",
    "    print(\"El año \" + str(year) + \" no es bisiesto\")"
   ]
  },
  {
   "cell_type": "markdown",
   "id": "8c921349",
   "metadata": {},
   "source": [
    "###  7. Busca la imagen de un tablero de ajedrez en Google y fíjate en la nomenclatura de las casillas. Escribe una secuencia que lea una letra y un número de teclado correspondiente a una casilla de un tablero de ajedrez y que indique si esta casilla es negra o blanca."
   ]
  },
  {
   "cell_type": "code",
   "execution_count": 53,
   "id": "631d4972",
   "metadata": {},
   "outputs": [
    {
     "name": "stdout",
     "output_type": "stream",
     "text": [
      "Introduce una letra del tablero de ajedrez: d\n",
      "Introduce un número del tablero de ajedrez: 3\n",
      "La posición (3,d) es sobre una casilla blanca\n"
     ]
    }
   ],
   "source": [
    "letra = input(\"Introduce una letra del tablero de ajedrez: \")\n",
    "numero = int(input(\"Introduce un número del tablero de ajedrez: \"))\n",
    "\n",
    "letras = ['a', 'b', 'c', 'd', 'e', 'f', 'g', 'h']\n",
    "numeros = [1, 2, 3, 4, 5, 6, 7, 8]\n",
    "letras_pares = ['b', 'd', 'f', 'h']\n",
    "\n",
    "\n",
    "if (letra in letras):\n",
    "    if (numero in numeros):\n",
    "        if (numero%2 == 0) and (letra in letras_pares):\n",
    "            print(\"La posición (\" + str(numero) + \",\" + letra + \") es sobre una casilla negra\")\n",
    "        elif (numero%2 == 0) and (letra not in letras_pares):\n",
    "            print(\"La posición (\" + str(numero) + \",\" + letra + \") es sobre una casilla blanca\")\n",
    "        elif (numero%2 != 0) and (letra in letras_pares):\n",
    "            print(\"La posición (\" + str(numero) + \",\" + letra + \") es sobre una casilla blanca\")\n",
    "        elif (numero%2 != 0) and (letra not in letras_pares):\n",
    "            print(\"La posición (\" + str(numero) + \",\" + letra + \") es sobre una casilla negra\")\n",
    "    else:\n",
    "        print(\"El número \" + numero + \" no es un número del tablero de ajedrez\")\n",
    "else:\n",
    "    print(\"La letra \" + letra + \" no es una letra del tablero de ajedrez\")"
   ]
  }
 ],
 "metadata": {
  "kernelspec": {
   "display_name": "Python 3 (ipykernel)",
   "language": "python",
   "name": "python3"
  },
  "language_info": {
   "codemirror_mode": {
    "name": "ipython",
    "version": 3
   },
   "file_extension": ".py",
   "mimetype": "text/x-python",
   "name": "python",
   "nbconvert_exporter": "python",
   "pygments_lexer": "ipython3",
   "version": "3.8.8"
  }
 },
 "nbformat": 4,
 "nbformat_minor": 5
}
