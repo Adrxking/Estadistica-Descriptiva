{
 "cells": [
  {
   "cell_type": "markdown",
   "id": "0ace95c2",
   "metadata": {},
   "source": [
    "## Distribucion Uniforme"
   ]
  },
  {
   "cell_type": "code",
   "execution_count": 2,
   "id": "ed27c3e0",
   "metadata": {},
   "outputs": [],
   "source": [
    "import numpy as np\n",
    "from scipy.stats import uniform\n",
    "import matplotlib.pyplot as plt"
   ]
  },
  {
   "cell_type": "code",
   "execution_count": 3,
   "id": "505c2e47",
   "metadata": {},
   "outputs": [],
   "source": [
    "a = 0\n",
    "b = 1\n",
    "\n",
    "loc = a\n",
    "scale = b-a"
   ]
  },
  {
   "cell_type": "code",
   "execution_count": 7,
   "id": "31f7a44d",
   "metadata": {},
   "outputs": [
    {
     "name": "stdout",
     "output_type": "stream",
     "text": [
      "Media 0.500000\n",
      "Varianza 0.083333\n",
      "Sesgo 0.000000\n",
      "Curtosis -1.200000\n"
     ]
    },
    {
     "data": {
      "image/png": "[encoded data removed]",
      "text/plain": [
       "<Figure size 432x288 with 1 Axes>"
      ]
     },
     "metadata": {
      "needs_background": "light"
     },
     "output_type": "display_data"
    }
   ],
   "source": [
    "fig, ax = plt.subplots(1,1)\n",
    "\n",
    "mean, var, skew, kurt = uniform.stats(moments = 'mvsk')\n",
    "print(\"Media %f\"%mean)\n",
    "print(\"Varianza %f\"%var)\n",
    "print(\"Sesgo %f\"%skew)\n",
    "print(\"Curtosis %f\"%kurt)\n",
    "\n",
    "x = np.linspace(-0.1, 1.1, 120)\n",
    "#Probability density function\n",
    "## Random variable\n",
    "rv = uniform(loc = loc, scale = scale)\n",
    "\n",
    "ax.plot(x, rv.pdf(x), '-k', lw = 2, label = \"U(0,1)\")\n",
    "\n",
    "ax.legend(loc = \"best\", frameon=False)\n",
    "\n",
    "plt.show()"
   ]
  },
  {
   "cell_type": "code",
   "execution_count": null,
   "id": "6a4f653a",
   "metadata": {},
   "outputs": [],
   "source": []
  }
 ],
 "metadata": {
  "kernelspec": {
   "display_name": "Python 3",
   "language": "python",
   "name": "python3"
  },
  "language_info": {
   "codemirror_mode": {
    "name": "ipython",
    "version": 3
   },
   "file_extension": ".py",
   "mimetype": "text/x-python",
   "name": "python",
   "nbconvert_exporter": "python",
   "pygments_lexer": "ipython3",
   "version": "3.8.8"
  }
 },
 "nbformat": 4,
 "nbformat_minor": 5
}
