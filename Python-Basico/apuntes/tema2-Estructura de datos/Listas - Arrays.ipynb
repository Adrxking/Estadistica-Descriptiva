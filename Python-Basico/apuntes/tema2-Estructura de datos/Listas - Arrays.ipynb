{
 "cells": [
  {
   "cell_type": "markdown",
   "id": "ed52ba76",
   "metadata": {},
   "source": [
    "# Listas\n",
    "Son contenedores que permiten almacenar una colección de objetos en un orden determinado. Se pueden acceder, añadir o eliminar objetos de forma sencilla."
   ]
  },
  {
   "cell_type": "code",
   "execution_count": 1,
   "id": "bc4e6dfe",
   "metadata": {},
   "outputs": [],
   "source": [
    "# Lista vacía\n",
    "L1 = [] "
   ]
  },
  {
   "cell_type": "code",
   "execution_count": 2,
   "id": "1ea54451",
   "metadata": {},
   "outputs": [],
   "source": [
    "# Lista con valores iniciales strings\n",
    "L2 = ['a', 'e', 'i', 'o', 'u']"
   ]
  },
  {
   "cell_type": "code",
   "execution_count": 3,
   "id": "67a7fad5",
   "metadata": {},
   "outputs": [],
   "source": [
    "# Lista con valores enteros\n",
    "L3 = [2,3,5,7,11]"
   ]
  },
  {
   "cell_type": "code",
   "execution_count": 4,
   "id": "84034b9a",
   "metadata": {},
   "outputs": [],
   "source": [
    "#Lista Heterogénea\n",
    "L4 = ['a', 5, True, \"Adrian\"]"
   ]
  },
  {
   "cell_type": "code",
   "execution_count": 6,
   "id": "1f49983d",
   "metadata": {},
   "outputs": [],
   "source": [
    "# Lista con 10 ceros\n",
    "L5 = [0]*10"
   ]
  },
  {
   "cell_type": "code",
   "execution_count": 8,
   "id": "1412a780",
   "metadata": {},
   "outputs": [
    {
     "data": {
      "text/plain": [
       "'a'"
      ]
     },
     "execution_count": 8,
     "metadata": {},
     "output_type": "execute_result"
    }
   ],
   "source": [
    "# Las listas en Python empiezan en la posición número 0\n",
    "L4[0]"
   ]
  },
  {
   "cell_type": "code",
   "execution_count": 10,
   "id": "09a28f60",
   "metadata": {},
   "outputs": [],
   "source": [
    "# Modificación de valores\n",
    "L5[4] = 3.1415"
   ]
  },
  {
   "cell_type": "code",
   "execution_count": 11,
   "id": "add54bc1",
   "metadata": {},
   "outputs": [
    {
     "data": {
      "text/plain": [
       "['a', 5]"
      ]
     },
     "execution_count": 11,
     "metadata": {},
     "output_type": "execute_result"
    }
   ],
   "source": [
    "# Accesos de posiciones múltiples (incluye la primera, exckuye la última)\n",
    "L4[0:2]"
   ]
  },
  {
   "cell_type": "code",
   "execution_count": 12,
   "id": "b1bfe2b5",
   "metadata": {},
   "outputs": [],
   "source": [
    "# Modificación de posiciones múltiples (incluye la primera, exckuye la última)\n",
    "L5[1:4] = [1,2,3]"
   ]
  },
  {
   "cell_type": "code",
   "execution_count": 13,
   "id": "758674cb",
   "metadata": {},
   "outputs": [],
   "source": [
    "# Añadir al final un valor\n",
    "L5.append(8)"
   ]
  },
  {
   "cell_type": "code",
   "execution_count": 14,
   "id": "496d1cce",
   "metadata": {},
   "outputs": [],
   "source": [
    "# Elimina la primera ocurrencia del objeto\n",
    "L5.remove(3)"
   ]
  },
  {
   "cell_type": "code",
   "execution_count": 15,
   "id": "0801e9a3",
   "metadata": {},
   "outputs": [],
   "source": [
    "# Invertir la lista\n",
    "L5.reverse()"
   ]
  },
  {
   "cell_type": "code",
   "execution_count": 16,
   "id": "1fc90621",
   "metadata": {},
   "outputs": [
    {
     "data": {
      "text/plain": [
       "6"
      ]
     },
     "execution_count": 16,
     "metadata": {},
     "output_type": "execute_result"
    }
   ],
   "source": [
    "# Contar las ocurrencias del objeto\n",
    "L5.count(0)"
   ]
  },
  {
   "cell_type": "code",
   "execution_count": 17,
   "id": "a155f277",
   "metadata": {},
   "outputs": [
    {
     "data": {
      "text/plain": [
       "7"
      ]
     },
     "execution_count": 17,
     "metadata": {},
     "output_type": "execute_result"
    }
   ],
   "source": [
    "# Conocer la posición de la primera ocurrencia del objeto\n",
    "L5.index(2)"
   ]
  },
  {
   "cell_type": "code",
   "execution_count": 18,
   "id": "cafa5c3d",
   "metadata": {},
   "outputs": [
    {
     "data": {
      "text/plain": [
       "10"
      ]
     },
     "execution_count": 18,
     "metadata": {},
     "output_type": "execute_result"
    }
   ],
   "source": [
    "# Obtener la longitud de la lista\n",
    "len(L5)"
   ]
  },
  {
   "cell_type": "code",
   "execution_count": 19,
   "id": "39bd22a8",
   "metadata": {},
   "outputs": [
    {
     "data": {
      "text/plain": [
       "[2, 4, 6]"
      ]
     },
     "execution_count": 19,
     "metadata": {},
     "output_type": "execute_result"
    }
   ],
   "source": [
    "# Desde la posición 1 de 2 en 2\n",
    "L = [1,2,3,4,5,6]\n",
    "L[1::2]"
   ]
  },
  {
   "cell_type": "code",
   "execution_count": 20,
   "id": "e3a065cc",
   "metadata": {},
   "outputs": [
    {
     "data": {
      "text/plain": [
       "False"
      ]
     },
     "execution_count": 20,
     "metadata": {},
     "output_type": "execute_result"
    }
   ],
   "source": [
    "# Conocer si existe un valor en la lista\n",
    "8 in L"
   ]
  }
 ],
 "metadata": {
  "kernelspec": {
   "display_name": "Python 3 (ipykernel)",
   "language": "python",
   "name": "python3"
  },
  "language_info": {
   "codemirror_mode": {
    "name": "ipython",
    "version": 3
   },
   "file_extension": ".py",
   "mimetype": "text/x-python",
   "name": "python",
   "nbconvert_exporter": "python",
   "pygments_lexer": "ipython3",
   "version": "3.8.8"
  }
 },
 "nbformat": 4,
 "nbformat_minor": 5
}
