{
 "cells": [
  {
   "cell_type": "markdown",
   "id": "987a212e",
   "metadata": {},
   "source": [
    "# Diccionario\n",
    "También llamados arrays asociativos.\n",
    "Colección no ordenada de pares de valores: **claves <-> valores**. Se indexa no por posición, si no utilizando claves.\n",
    "Los diccionarios se declaran con llaves {}"
   ]
  },
  {
   "cell_type": "code",
   "execution_count": 1,
   "id": "5de8afd0",
   "metadata": {},
   "outputs": [
    {
     "name": "stdout",
     "output_type": "stream",
     "text": [
      "Hola Adrian\n"
     ]
    }
   ],
   "source": [
    "# Podemos utilizar las sustituciones de strings en los print\n",
    "nombre = \"Adrian\"\n",
    "print(\"Hola %s\"%nombre)"
   ]
  },
  {
   "cell_type": "code",
   "execution_count": 3,
   "id": "1ffa0eb6",
   "metadata": {},
   "outputs": [
    {
     "name": "stdout",
     "output_type": "stream",
     "text": [
      "Esto es un número: 3\n"
     ]
    }
   ],
   "source": [
    "# Podemos utilizar las sustituaciones de números en los print\n",
    "numero = 3\n",
    "print(\"Esto es un número: %d\"%numero)"
   ]
  },
  {
   "cell_type": "code",
   "execution_count": 6,
   "id": "216d1b8e",
   "metadata": {},
   "outputs": [
    {
     "name": "stdout",
     "output_type": "stream",
     "text": [
      "Esto es un número: 3.14\n"
     ]
    }
   ],
   "source": [
    "# Podemos utilizar las sustituaciones de números flotantes en los print\n",
    "numero = 3.1416\n",
    "print(\"Esto es un número: %.2f\"%numero)"
   ]
  },
  {
   "cell_type": "code",
   "execution_count": 13,
   "id": "52afa533",
   "metadata": {},
   "outputs": [
    {
     "data": {
      "text/plain": [
       "19"
      ]
     },
     "execution_count": 13,
     "metadata": {},
     "output_type": "execute_result"
    }
   ],
   "source": [
    "# Crear un diccionario con nombres y edades\n",
    "edad = {\n",
    "    \"Adrian\": 19, \"María\": 18\n",
    "}\n",
    "# Obtener la edad de Adrian\n",
    "edad[\"Adrian\"]"
   ]
  },
  {
   "cell_type": "code",
   "execution_count": 14,
   "id": "e7941f31",
   "metadata": {},
   "outputs": [
    {
     "data": {
      "text/plain": [
       "dict_keys(['Adrian', 'María'])"
      ]
     },
     "execution_count": 14,
     "metadata": {},
     "output_type": "execute_result"
    }
   ],
   "source": [
    "# Obtener las claves del diccionario\n",
    "edad.keys()"
   ]
  },
  {
   "cell_type": "code",
   "execution_count": 16,
   "id": "ad9a928a",
   "metadata": {},
   "outputs": [
    {
     "data": {
      "text/plain": [
       "dict_values([19, 18])"
      ]
     },
     "execution_count": 16,
     "metadata": {},
     "output_type": "execute_result"
    }
   ],
   "source": [
    "# Obtener los valores del diccionario\n",
    "edad.values()"
   ]
  },
  {
   "cell_type": "code",
   "execution_count": 19,
   "id": "7b625f1b",
   "metadata": {},
   "outputs": [
    {
     "data": {
      "text/plain": [
       "2"
      ]
     },
     "execution_count": 19,
     "metadata": {},
     "output_type": "execute_result"
    }
   ],
   "source": [
    "# Obtener la longitud del diccionario\n",
    "len(edad)"
   ]
  },
  {
   "cell_type": "code",
   "execution_count": 23,
   "id": "90b3bda0",
   "metadata": {},
   "outputs": [
    {
     "data": {
      "text/plain": [
       "True"
      ]
     },
     "execution_count": 23,
     "metadata": {},
     "output_type": "execute_result"
    }
   ],
   "source": [
    "# Comprobar si existe una clave en un diccionario\n",
    "\"Adrian\" in edad"
   ]
  },
  {
   "cell_type": "code",
   "execution_count": 26,
   "id": "b2257f84",
   "metadata": {},
   "outputs": [
    {
     "ename": "KeyError",
     "evalue": "'Adrian'",
     "output_type": "error",
     "traceback": [
      "\u001b[1;31m---------------------------------------------------------------------------\u001b[0m",
      "\u001b[1;31mKeyError\u001b[0m                                  Traceback (most recent call last)",
      "\u001b[1;32m~\\AppData\\Local\\Temp/ipykernel_7824/1944455913.py\u001b[0m in \u001b[0;36m<module>\u001b[1;34m\u001b[0m\n\u001b[0;32m      1\u001b[0m \u001b[1;31m# Eliminar una clave y su valor\u001b[0m\u001b[1;33m\u001b[0m\u001b[1;33m\u001b[0m\u001b[1;33m\u001b[0m\u001b[0m\n\u001b[1;32m----> 2\u001b[1;33m \u001b[1;32mdel\u001b[0m \u001b[0medad\u001b[0m\u001b[1;33m[\u001b[0m\u001b[1;34m\"Adrian\"\u001b[0m\u001b[1;33m]\u001b[0m\u001b[1;33m\u001b[0m\u001b[1;33m\u001b[0m\u001b[0m\n\u001b[0m\u001b[0;32m      3\u001b[0m \u001b[0mprint\u001b[0m\u001b[1;33m(\u001b[0m\u001b[0medad\u001b[0m\u001b[1;33m)\u001b[0m\u001b[1;33m\u001b[0m\u001b[1;33m\u001b[0m\u001b[0m\n",
      "\u001b[1;31mKeyError\u001b[0m: 'Adrian'"
     ]
    }
   ],
   "source": [
    "# Eliminar una clave y su valor\n",
    "del edad[\"Adrian\"]"
   ]
  },
  {
   "cell_type": "code",
   "execution_count": null,
   "id": "51843e11",
   "metadata": {},
   "outputs": [],
   "source": []
  }
 ],
 "metadata": {
  "kernelspec": {
   "display_name": "Python 3 (ipykernel)",
   "language": "python",
   "name": "python3"
  },
  "language_info": {
   "codemirror_mode": {
    "name": "ipython",
    "version": 3
   },
   "file_extension": ".py",
   "mimetype": "text/x-python",
   "name": "python",
   "nbconvert_exporter": "python",
   "pygments_lexer": "ipython3",
   "version": "3.8.8"
  }
 },
 "nbformat": 4,
 "nbformat_minor": 5
}
